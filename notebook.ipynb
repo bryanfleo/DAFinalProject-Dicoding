{
 "cells": [
  {
   "cell_type": "markdown",
   "metadata": {
    "id": "H9wADwK78DCz"
   },
   "source": [
    "# Proyek Analisis Data: [*Bike Sharing Dataset*]\n",
    "- **Nama:** Bryan Florentino Leo\n",
    "- **Email:** m008d4ky1694@bangkit.academy\n",
    "- **ID Dicoding:** bryanflorentinoleo"
   ]
  },
  {
   "cell_type": "markdown",
   "metadata": {
    "id": "eE0raob58DC0"
   },
   "source": [
    "## Menentukan Pertanyaan Bisnis"
   ]
  },
  {
   "cell_type": "markdown",
   "metadata": {
    "id": "GmQeQ5YF8DC0"
   },
   "source": [
    "Berdasarkan [sumber](https://www.kaggle.com/datasets/lakshmi25npathi/bike-sharing-dataset), diketahui bahwa sistem *bike sharing* ialah wujud otomasi dari rental sepeda tradisional yang telah menunjukkan peran penting terhadap berbagai permasalahan lalu lintas, lingkungan alam, dan kesehatan.<br>\n",
    "\n",
    "Terdapat dua *dataset* pada sumber, yaitu `day.csv` dan `hour.csv`, yang masing-masing tersusun atas atribut-atribut:\n",
    "1. `instant`: indeks baris\n",
    "2. `dteday`: tanggal observasi\n",
    "3. `season`: musim (1 = semi, 2 = panas, 3 = gugur, 4 = dingin)\n",
    "4. `yr`: tahun (0 = 2011, 1 = 2012)\n",
    "5. `mnth`: bulan (1 hingga 12)\n",
    "6. `hr`: jam (0 hingga 23; hanya terdapat pada `hour.csv`)\n",
    "7. `holiday`: apakah suatu hari tergolong hari libur\n",
    "8. `weekday`: urutan hari pada pekan yang bersesuaian\n",
    "9. `workingday`: 1 untuk bukan akhir pekan atau hari libur, 0 untuk lainnya\n",
    "10. `weathersit`: keadaan cuaca (1 = cerah/berawan, 2 = mendung/gerimis, 3 = salju atau hujan ringan, 4 = hujan deras atau hujan salju berkabut)\n",
    "11. `temp`: suhu ternormalisasi (dalam Celsius, `t_min` = -8, `t_max` = 39)\n",
    "12. `atemp`: suhu dirasakan ternormalisasi (dalam Celsius, `t_min` = -16, `t_max` = 50)\n",
    "13. `hum`: tingkat kelembaban ternormalisasi (dibagi `hum_max` = 100)\n",
    "14. `windspeed`: kecepatan angin ternormalisasi (dibagi `windspeed_max` = 67)\n",
    "15. `casual`: jumlah perental biasa\n",
    "16. `registered`: jumlah perental terdaftar\n",
    "17. `cnt`: total jumlah perental sepeda<br>\n",
    "\n",
    "Dari *dataset* yang ada, disusun dua buah pertanyaan bisnis sebagai berikut:\n",
    "- Bagaimana rata-rata jumlah perental sepeda *casual*, *registered*, dan total pada hari kerja dan bukan hari kerja?\n",
    "- Untuk tiap musim, pada jam berapakah umumnya sepeda paling banyak dirental?"
   ]
  },
  {
   "cell_type": "markdown",
   "metadata": {
    "id": "H-z4QGlO8DC1"
   },
   "source": [
    "## Import Semua Packages/Library yang Digunakan"
   ]
  },
  {
   "cell_type": "code",
   "execution_count": 1,
   "metadata": {
    "id": "FVYwaObI8DC1"
   },
   "outputs": [],
   "source": [
    "import pandas as pd\n",
    "import numpy as np\n",
    "import matplotlib.pyplot as plt\n",
    "import seaborn as sns"
   ]
  },
  {
   "cell_type": "markdown",
   "metadata": {
    "id": "h_Sh51Xy8DC1"
   },
   "source": [
    "## Data Wrangling"
   ]
  },
  {
   "cell_type": "markdown",
   "metadata": {
    "id": "sXU2GBYu8DC1"
   },
   "source": [
    "### Gathering Data"
   ]
  },
  {
   "cell_type": "code",
   "execution_count": 2,
   "metadata": {
    "colab": {
     "base_uri": "https://localhost:8080/",
     "height": 206
    },
    "id": "zjCBk1BI8DC1",
    "outputId": "1b1d761a-682c-45cc-c8ab-3f74a8bc641c"
   },
   "outputs": [
    {
     "data": {
      "text/html": [
       "<div>\n",
       "<style scoped>\n",
       "    .dataframe tbody tr th:only-of-type {\n",
       "        vertical-align: middle;\n",
       "    }\n",
       "\n",
       "    .dataframe tbody tr th {\n",
       "        vertical-align: top;\n",
       "    }\n",
       "\n",
       "    .dataframe thead th {\n",
       "        text-align: right;\n",
       "    }\n",
       "</style>\n",
       "<table border=\"1\" class=\"dataframe\">\n",
       "  <thead>\n",
       "    <tr style=\"text-align: right;\">\n",
       "      <th></th>\n",
       "      <th>instant</th>\n",
       "      <th>dteday</th>\n",
       "      <th>season</th>\n",
       "      <th>yr</th>\n",
       "      <th>mnth</th>\n",
       "      <th>holiday</th>\n",
       "      <th>weekday</th>\n",
       "      <th>workingday</th>\n",
       "      <th>weathersit</th>\n",
       "      <th>temp</th>\n",
       "      <th>atemp</th>\n",
       "      <th>hum</th>\n",
       "      <th>windspeed</th>\n",
       "      <th>casual</th>\n",
       "      <th>registered</th>\n",
       "      <th>cnt</th>\n",
       "    </tr>\n",
       "  </thead>\n",
       "  <tbody>\n",
       "    <tr>\n",
       "      <th>0</th>\n",
       "      <td>1</td>\n",
       "      <td>2011-01-01</td>\n",
       "      <td>1</td>\n",
       "      <td>0</td>\n",
       "      <td>1</td>\n",
       "      <td>0</td>\n",
       "      <td>6</td>\n",
       "      <td>0</td>\n",
       "      <td>2</td>\n",
       "      <td>0.344167</td>\n",
       "      <td>0.363625</td>\n",
       "      <td>0.805833</td>\n",
       "      <td>0.160446</td>\n",
       "      <td>331</td>\n",
       "      <td>654</td>\n",
       "      <td>985</td>\n",
       "    </tr>\n",
       "    <tr>\n",
       "      <th>1</th>\n",
       "      <td>2</td>\n",
       "      <td>2011-01-02</td>\n",
       "      <td>1</td>\n",
       "      <td>0</td>\n",
       "      <td>1</td>\n",
       "      <td>0</td>\n",
       "      <td>0</td>\n",
       "      <td>0</td>\n",
       "      <td>2</td>\n",
       "      <td>0.363478</td>\n",
       "      <td>0.353739</td>\n",
       "      <td>0.696087</td>\n",
       "      <td>0.248539</td>\n",
       "      <td>131</td>\n",
       "      <td>670</td>\n",
       "      <td>801</td>\n",
       "    </tr>\n",
       "    <tr>\n",
       "      <th>2</th>\n",
       "      <td>3</td>\n",
       "      <td>2011-01-03</td>\n",
       "      <td>1</td>\n",
       "      <td>0</td>\n",
       "      <td>1</td>\n",
       "      <td>0</td>\n",
       "      <td>1</td>\n",
       "      <td>1</td>\n",
       "      <td>1</td>\n",
       "      <td>0.196364</td>\n",
       "      <td>0.189405</td>\n",
       "      <td>0.437273</td>\n",
       "      <td>0.248309</td>\n",
       "      <td>120</td>\n",
       "      <td>1229</td>\n",
       "      <td>1349</td>\n",
       "    </tr>\n",
       "    <tr>\n",
       "      <th>3</th>\n",
       "      <td>4</td>\n",
       "      <td>2011-01-04</td>\n",
       "      <td>1</td>\n",
       "      <td>0</td>\n",
       "      <td>1</td>\n",
       "      <td>0</td>\n",
       "      <td>2</td>\n",
       "      <td>1</td>\n",
       "      <td>1</td>\n",
       "      <td>0.200000</td>\n",
       "      <td>0.212122</td>\n",
       "      <td>0.590435</td>\n",
       "      <td>0.160296</td>\n",
       "      <td>108</td>\n",
       "      <td>1454</td>\n",
       "      <td>1562</td>\n",
       "    </tr>\n",
       "    <tr>\n",
       "      <th>4</th>\n",
       "      <td>5</td>\n",
       "      <td>2011-01-05</td>\n",
       "      <td>1</td>\n",
       "      <td>0</td>\n",
       "      <td>1</td>\n",
       "      <td>0</td>\n",
       "      <td>3</td>\n",
       "      <td>1</td>\n",
       "      <td>1</td>\n",
       "      <td>0.226957</td>\n",
       "      <td>0.229270</td>\n",
       "      <td>0.436957</td>\n",
       "      <td>0.186900</td>\n",
       "      <td>82</td>\n",
       "      <td>1518</td>\n",
       "      <td>1600</td>\n",
       "    </tr>\n",
       "  </tbody>\n",
       "</table>\n",
       "</div>"
      ],
      "text/plain": [
       "   instant      dteday  season  yr  mnth  holiday  weekday  workingday  \\\n",
       "0        1  2011-01-01       1   0     1        0        6           0   \n",
       "1        2  2011-01-02       1   0     1        0        0           0   \n",
       "2        3  2011-01-03       1   0     1        0        1           1   \n",
       "3        4  2011-01-04       1   0     1        0        2           1   \n",
       "4        5  2011-01-05       1   0     1        0        3           1   \n",
       "\n",
       "   weathersit      temp     atemp       hum  windspeed  casual  registered  \\\n",
       "0           2  0.344167  0.363625  0.805833   0.160446     331         654   \n",
       "1           2  0.363478  0.353739  0.696087   0.248539     131         670   \n",
       "2           1  0.196364  0.189405  0.437273   0.248309     120        1229   \n",
       "3           1  0.200000  0.212122  0.590435   0.160296     108        1454   \n",
       "4           1  0.226957  0.229270  0.436957   0.186900      82        1518   \n",
       "\n",
       "    cnt  \n",
       "0   985  \n",
       "1   801  \n",
       "2  1349  \n",
       "3  1562  \n",
       "4  1600  "
      ]
     },
     "execution_count": 2,
     "metadata": {},
     "output_type": "execute_result"
    }
   ],
   "source": [
    "df_day = pd.read_csv(\"day.csv\")\n",
    "df_day.head()"
   ]
  },
  {
   "cell_type": "code",
   "execution_count": 3,
   "metadata": {
    "colab": {
     "base_uri": "https://localhost:8080/",
     "height": 206
    },
    "id": "8fpFuivEm6Th",
    "outputId": "12e497c8-0323-4141-9318-a2cef459ee3c"
   },
   "outputs": [
    {
     "data": {
      "text/html": [
       "<div>\n",
       "<style scoped>\n",
       "    .dataframe tbody tr th:only-of-type {\n",
       "        vertical-align: middle;\n",
       "    }\n",
       "\n",
       "    .dataframe tbody tr th {\n",
       "        vertical-align: top;\n",
       "    }\n",
       "\n",
       "    .dataframe thead th {\n",
       "        text-align: right;\n",
       "    }\n",
       "</style>\n",
       "<table border=\"1\" class=\"dataframe\">\n",
       "  <thead>\n",
       "    <tr style=\"text-align: right;\">\n",
       "      <th></th>\n",
       "      <th>instant</th>\n",
       "      <th>dteday</th>\n",
       "      <th>season</th>\n",
       "      <th>yr</th>\n",
       "      <th>mnth</th>\n",
       "      <th>hr</th>\n",
       "      <th>holiday</th>\n",
       "      <th>weekday</th>\n",
       "      <th>workingday</th>\n",
       "      <th>weathersit</th>\n",
       "      <th>temp</th>\n",
       "      <th>atemp</th>\n",
       "      <th>hum</th>\n",
       "      <th>windspeed</th>\n",
       "      <th>casual</th>\n",
       "      <th>registered</th>\n",
       "      <th>cnt</th>\n",
       "    </tr>\n",
       "  </thead>\n",
       "  <tbody>\n",
       "    <tr>\n",
       "      <th>0</th>\n",
       "      <td>1</td>\n",
       "      <td>2011-01-01</td>\n",
       "      <td>1</td>\n",
       "      <td>0</td>\n",
       "      <td>1</td>\n",
       "      <td>0</td>\n",
       "      <td>0</td>\n",
       "      <td>6</td>\n",
       "      <td>0</td>\n",
       "      <td>1</td>\n",
       "      <td>0.24</td>\n",
       "      <td>0.2879</td>\n",
       "      <td>0.81</td>\n",
       "      <td>0.0</td>\n",
       "      <td>3</td>\n",
       "      <td>13</td>\n",
       "      <td>16</td>\n",
       "    </tr>\n",
       "    <tr>\n",
       "      <th>1</th>\n",
       "      <td>2</td>\n",
       "      <td>2011-01-01</td>\n",
       "      <td>1</td>\n",
       "      <td>0</td>\n",
       "      <td>1</td>\n",
       "      <td>1</td>\n",
       "      <td>0</td>\n",
       "      <td>6</td>\n",
       "      <td>0</td>\n",
       "      <td>1</td>\n",
       "      <td>0.22</td>\n",
       "      <td>0.2727</td>\n",
       "      <td>0.80</td>\n",
       "      <td>0.0</td>\n",
       "      <td>8</td>\n",
       "      <td>32</td>\n",
       "      <td>40</td>\n",
       "    </tr>\n",
       "    <tr>\n",
       "      <th>2</th>\n",
       "      <td>3</td>\n",
       "      <td>2011-01-01</td>\n",
       "      <td>1</td>\n",
       "      <td>0</td>\n",
       "      <td>1</td>\n",
       "      <td>2</td>\n",
       "      <td>0</td>\n",
       "      <td>6</td>\n",
       "      <td>0</td>\n",
       "      <td>1</td>\n",
       "      <td>0.22</td>\n",
       "      <td>0.2727</td>\n",
       "      <td>0.80</td>\n",
       "      <td>0.0</td>\n",
       "      <td>5</td>\n",
       "      <td>27</td>\n",
       "      <td>32</td>\n",
       "    </tr>\n",
       "    <tr>\n",
       "      <th>3</th>\n",
       "      <td>4</td>\n",
       "      <td>2011-01-01</td>\n",
       "      <td>1</td>\n",
       "      <td>0</td>\n",
       "      <td>1</td>\n",
       "      <td>3</td>\n",
       "      <td>0</td>\n",
       "      <td>6</td>\n",
       "      <td>0</td>\n",
       "      <td>1</td>\n",
       "      <td>0.24</td>\n",
       "      <td>0.2879</td>\n",
       "      <td>0.75</td>\n",
       "      <td>0.0</td>\n",
       "      <td>3</td>\n",
       "      <td>10</td>\n",
       "      <td>13</td>\n",
       "    </tr>\n",
       "    <tr>\n",
       "      <th>4</th>\n",
       "      <td>5</td>\n",
       "      <td>2011-01-01</td>\n",
       "      <td>1</td>\n",
       "      <td>0</td>\n",
       "      <td>1</td>\n",
       "      <td>4</td>\n",
       "      <td>0</td>\n",
       "      <td>6</td>\n",
       "      <td>0</td>\n",
       "      <td>1</td>\n",
       "      <td>0.24</td>\n",
       "      <td>0.2879</td>\n",
       "      <td>0.75</td>\n",
       "      <td>0.0</td>\n",
       "      <td>0</td>\n",
       "      <td>1</td>\n",
       "      <td>1</td>\n",
       "    </tr>\n",
       "  </tbody>\n",
       "</table>\n",
       "</div>"
      ],
      "text/plain": [
       "   instant      dteday  season  yr  mnth  hr  holiday  weekday  workingday  \\\n",
       "0        1  2011-01-01       1   0     1   0        0        6           0   \n",
       "1        2  2011-01-01       1   0     1   1        0        6           0   \n",
       "2        3  2011-01-01       1   0     1   2        0        6           0   \n",
       "3        4  2011-01-01       1   0     1   3        0        6           0   \n",
       "4        5  2011-01-01       1   0     1   4        0        6           0   \n",
       "\n",
       "   weathersit  temp   atemp   hum  windspeed  casual  registered  cnt  \n",
       "0           1  0.24  0.2879  0.81        0.0       3          13   16  \n",
       "1           1  0.22  0.2727  0.80        0.0       8          32   40  \n",
       "2           1  0.22  0.2727  0.80        0.0       5          27   32  \n",
       "3           1  0.24  0.2879  0.75        0.0       3          10   13  \n",
       "4           1  0.24  0.2879  0.75        0.0       0           1    1  "
      ]
     },
     "execution_count": 3,
     "metadata": {},
     "output_type": "execute_result"
    }
   ],
   "source": [
    "df_hour = pd.read_csv(\"hour.csv\")\n",
    "df_hour.head()"
   ]
  },
  {
   "cell_type": "markdown",
   "metadata": {
    "id": "FHSiqaZp8DC1"
   },
   "source": [
    "### Assessing Data"
   ]
  },
  {
   "cell_type": "markdown",
   "metadata": {
    "id": "KOjxuF4RlcGB"
   },
   "source": [
    "####Memeriksa tipe data per atribut"
   ]
  },
  {
   "cell_type": "code",
   "execution_count": 4,
   "metadata": {
    "colab": {
     "base_uri": "https://localhost:8080/"
    },
    "id": "waaBgXzTlcSx",
    "outputId": "38c4f64e-c9d8-4b45-b22b-05d8708f628b"
   },
   "outputs": [
    {
     "name": "stdout",
     "output_type": "stream",
     "text": [
      "<class 'pandas.core.frame.DataFrame'>\n",
      "RangeIndex: 731 entries, 0 to 730\n",
      "Data columns (total 16 columns):\n",
      " #   Column      Non-Null Count  Dtype  \n",
      "---  ------      --------------  -----  \n",
      " 0   instant     731 non-null    int64  \n",
      " 1   dteday      731 non-null    object \n",
      " 2   season      731 non-null    int64  \n",
      " 3   yr          731 non-null    int64  \n",
      " 4   mnth        731 non-null    int64  \n",
      " 5   holiday     731 non-null    int64  \n",
      " 6   weekday     731 non-null    int64  \n",
      " 7   workingday  731 non-null    int64  \n",
      " 8   weathersit  731 non-null    int64  \n",
      " 9   temp        731 non-null    float64\n",
      " 10  atemp       731 non-null    float64\n",
      " 11  hum         731 non-null    float64\n",
      " 12  windspeed   731 non-null    float64\n",
      " 13  casual      731 non-null    int64  \n",
      " 14  registered  731 non-null    int64  \n",
      " 15  cnt         731 non-null    int64  \n",
      "dtypes: float64(4), int64(11), object(1)\n",
      "memory usage: 91.5+ KB\n"
     ]
    }
   ],
   "source": [
    "df_day.info()"
   ]
  },
  {
   "cell_type": "markdown",
   "metadata": {
    "id": "a-I8kVyxplHv"
   },
   "source": [
    "**Interpretasi:** Pada *dataset* `df_day`, terdapat 731 baris observasi dengan 11 atribut bertipe *integer*, 4 atribut bertipe *float*, dan 1 atribut bertipe *object*."
   ]
  },
  {
   "cell_type": "code",
   "execution_count": 5,
   "metadata": {
    "colab": {
     "base_uri": "https://localhost:8080/"
    },
    "id": "G0AVasDclcWV",
    "outputId": "ac93f436-4129-4bd6-a87c-a36bbb41073b"
   },
   "outputs": [
    {
     "name": "stdout",
     "output_type": "stream",
     "text": [
      "<class 'pandas.core.frame.DataFrame'>\n",
      "RangeIndex: 17379 entries, 0 to 17378\n",
      "Data columns (total 17 columns):\n",
      " #   Column      Non-Null Count  Dtype  \n",
      "---  ------      --------------  -----  \n",
      " 0   instant     17379 non-null  int64  \n",
      " 1   dteday      17379 non-null  object \n",
      " 2   season      17379 non-null  int64  \n",
      " 3   yr          17379 non-null  int64  \n",
      " 4   mnth        17379 non-null  int64  \n",
      " 5   hr          17379 non-null  int64  \n",
      " 6   holiday     17379 non-null  int64  \n",
      " 7   weekday     17379 non-null  int64  \n",
      " 8   workingday  17379 non-null  int64  \n",
      " 9   weathersit  17379 non-null  int64  \n",
      " 10  temp        17379 non-null  float64\n",
      " 11  atemp       17379 non-null  float64\n",
      " 12  hum         17379 non-null  float64\n",
      " 13  windspeed   17379 non-null  float64\n",
      " 14  casual      17379 non-null  int64  \n",
      " 15  registered  17379 non-null  int64  \n",
      " 16  cnt         17379 non-null  int64  \n",
      "dtypes: float64(4), int64(12), object(1)\n",
      "memory usage: 2.3+ MB\n"
     ]
    }
   ],
   "source": [
    "df_hour.info()"
   ]
  },
  {
   "cell_type": "markdown",
   "metadata": {
    "id": "27_lHuVSpwLN"
   },
   "source": [
    "**Interpretasi:** Pada *dataset* `df_hour`, terdapat 17.379 baris observasi dengan 12 atribut bertipe *integer*, 4 atribut bertipe *float*, dan 1 atribut bertipe *object*."
   ]
  },
  {
   "cell_type": "markdown",
   "metadata": {
    "id": "d5LqxXcrlIAT"
   },
   "source": [
    "#### Memeriksa *missing value*"
   ]
  },
  {
   "cell_type": "code",
   "execution_count": 6,
   "metadata": {
    "colab": {
     "base_uri": "https://localhost:8080/"
    },
    "id": "ax-3tEjc9Cj1",
    "outputId": "1d79a33c-39e4-4476-dd11-25d95cfa17b8"
   },
   "outputs": [
    {
     "data": {
      "text/plain": [
       "instant       0\n",
       "dteday        0\n",
       "season        0\n",
       "yr            0\n",
       "mnth          0\n",
       "holiday       0\n",
       "weekday       0\n",
       "workingday    0\n",
       "weathersit    0\n",
       "temp          0\n",
       "atemp         0\n",
       "hum           0\n",
       "windspeed     0\n",
       "casual        0\n",
       "registered    0\n",
       "cnt           0\n",
       "dtype: int64"
      ]
     },
     "execution_count": 6,
     "metadata": {},
     "output_type": "execute_result"
    }
   ],
   "source": [
    "df_day.isnull().sum()"
   ]
  },
  {
   "cell_type": "markdown",
   "metadata": {
    "id": "bzZYcxuop5gN"
   },
   "source": [
    "**Interpretasi:** Pada *dataset* `df_day`, tidak terdapat *missing value*."
   ]
  },
  {
   "cell_type": "code",
   "execution_count": 7,
   "metadata": {
    "colab": {
     "base_uri": "https://localhost:8080/"
    },
    "id": "7Vi4oBr3njx4",
    "outputId": "e674f018-68e1-49d3-9104-b391dd8ecb71"
   },
   "outputs": [
    {
     "data": {
      "text/plain": [
       "instant       0\n",
       "dteday        0\n",
       "season        0\n",
       "yr            0\n",
       "mnth          0\n",
       "hr            0\n",
       "holiday       0\n",
       "weekday       0\n",
       "workingday    0\n",
       "weathersit    0\n",
       "temp          0\n",
       "atemp         0\n",
       "hum           0\n",
       "windspeed     0\n",
       "casual        0\n",
       "registered    0\n",
       "cnt           0\n",
       "dtype: int64"
      ]
     },
     "execution_count": 7,
     "metadata": {},
     "output_type": "execute_result"
    }
   ],
   "source": [
    "df_hour.isnull().sum()"
   ]
  },
  {
   "cell_type": "markdown",
   "metadata": {
    "id": "UmfiPVQAp9Qs"
   },
   "source": [
    "**Interpretasi:** Pada *dataset* `df_hour`, tidak terdapat *missing value*."
   ]
  },
  {
   "cell_type": "markdown",
   "metadata": {
    "id": "B6Rx-5YnlMgA"
   },
   "source": [
    "####Memeriksa *duplicated values*"
   ]
  },
  {
   "cell_type": "code",
   "execution_count": 8,
   "metadata": {
    "colab": {
     "base_uri": "https://localhost:8080/"
    },
    "id": "VvNGoVIhlMpV",
    "outputId": "b7f12635-6a88-4b99-b384-975eaff4752c"
   },
   "outputs": [
    {
     "data": {
      "text/plain": [
       "0"
      ]
     },
     "execution_count": 8,
     "metadata": {},
     "output_type": "execute_result"
    }
   ],
   "source": [
    "df_day.duplicated().sum()"
   ]
  },
  {
   "cell_type": "markdown",
   "metadata": {
    "id": "P9KGhoqvp-zC"
   },
   "source": [
    "**Interpretasi:** Pada *dataset* `df_day`, tidak terdapat *duplicated value*."
   ]
  },
  {
   "cell_type": "code",
   "execution_count": 9,
   "metadata": {
    "colab": {
     "base_uri": "https://localhost:8080/"
    },
    "id": "_OGOxVFMnl4q",
    "outputId": "393db4e6-2d12-46aa-8df3-6fee3b7ed872"
   },
   "outputs": [
    {
     "data": {
      "text/plain": [
       "0"
      ]
     },
     "execution_count": 9,
     "metadata": {},
     "output_type": "execute_result"
    }
   ],
   "source": [
    "df_hour.duplicated().sum()"
   ]
  },
  {
   "cell_type": "markdown",
   "metadata": {
    "id": "To1DShKQqBMY"
   },
   "source": [
    "**Interpretasi:** Pada *dataset* `df_hour`, tidak terdapat *duplicated value*."
   ]
  },
  {
   "cell_type": "markdown",
   "metadata": {
    "id": "6aTxwSn0qDyo"
   },
   "source": [
    "####Memeriksa nilai *invalid*"
   ]
  },
  {
   "cell_type": "code",
   "execution_count": 10,
   "metadata": {
    "colab": {
     "base_uri": "https://localhost:8080/",
     "height": 195
    },
    "id": "US94z6o_qD-R",
    "outputId": "1c1f83a3-fa08-498b-de7c-a7f3ad78aef9"
   },
   "outputs": [
    {
     "data": {
      "text/html": [
       "<div>\n",
       "<style scoped>\n",
       "    .dataframe tbody tr th:only-of-type {\n",
       "        vertical-align: middle;\n",
       "    }\n",
       "\n",
       "    .dataframe tbody tr th {\n",
       "        vertical-align: top;\n",
       "    }\n",
       "\n",
       "    .dataframe thead th {\n",
       "        text-align: right;\n",
       "    }\n",
       "</style>\n",
       "<table border=\"1\" class=\"dataframe\">\n",
       "  <thead>\n",
       "    <tr style=\"text-align: right;\">\n",
       "      <th></th>\n",
       "      <th>instant</th>\n",
       "      <th>season</th>\n",
       "      <th>yr</th>\n",
       "      <th>mnth</th>\n",
       "      <th>holiday</th>\n",
       "      <th>weekday</th>\n",
       "      <th>workingday</th>\n",
       "      <th>weathersit</th>\n",
       "      <th>temp</th>\n",
       "      <th>atemp</th>\n",
       "      <th>hum</th>\n",
       "      <th>windspeed</th>\n",
       "      <th>casual</th>\n",
       "      <th>registered</th>\n",
       "      <th>cnt</th>\n",
       "    </tr>\n",
       "  </thead>\n",
       "  <tbody>\n",
       "    <tr>\n",
       "      <th>mean</th>\n",
       "      <td>366.000000</td>\n",
       "      <td>2.496580</td>\n",
       "      <td>0.500684</td>\n",
       "      <td>6.519836</td>\n",
       "      <td>0.028728</td>\n",
       "      <td>2.997264</td>\n",
       "      <td>0.683995</td>\n",
       "      <td>1.395349</td>\n",
       "      <td>0.495385</td>\n",
       "      <td>0.474354</td>\n",
       "      <td>0.627894</td>\n",
       "      <td>0.190486</td>\n",
       "      <td>848.176471</td>\n",
       "      <td>3656.172367</td>\n",
       "      <td>4504.348837</td>\n",
       "    </tr>\n",
       "    <tr>\n",
       "      <th>std</th>\n",
       "      <td>211.165812</td>\n",
       "      <td>1.110807</td>\n",
       "      <td>0.500342</td>\n",
       "      <td>3.451913</td>\n",
       "      <td>0.167155</td>\n",
       "      <td>2.004787</td>\n",
       "      <td>0.465233</td>\n",
       "      <td>0.544894</td>\n",
       "      <td>0.183051</td>\n",
       "      <td>0.162961</td>\n",
       "      <td>0.142429</td>\n",
       "      <td>0.077498</td>\n",
       "      <td>686.622488</td>\n",
       "      <td>1560.256377</td>\n",
       "      <td>1937.211452</td>\n",
       "    </tr>\n",
       "    <tr>\n",
       "      <th>min</th>\n",
       "      <td>1.000000</td>\n",
       "      <td>1.000000</td>\n",
       "      <td>0.000000</td>\n",
       "      <td>1.000000</td>\n",
       "      <td>0.000000</td>\n",
       "      <td>0.000000</td>\n",
       "      <td>0.000000</td>\n",
       "      <td>1.000000</td>\n",
       "      <td>0.059130</td>\n",
       "      <td>0.079070</td>\n",
       "      <td>0.000000</td>\n",
       "      <td>0.022392</td>\n",
       "      <td>2.000000</td>\n",
       "      <td>20.000000</td>\n",
       "      <td>22.000000</td>\n",
       "    </tr>\n",
       "    <tr>\n",
       "      <th>max</th>\n",
       "      <td>731.000000</td>\n",
       "      <td>4.000000</td>\n",
       "      <td>1.000000</td>\n",
       "      <td>12.000000</td>\n",
       "      <td>1.000000</td>\n",
       "      <td>6.000000</td>\n",
       "      <td>1.000000</td>\n",
       "      <td>3.000000</td>\n",
       "      <td>0.861667</td>\n",
       "      <td>0.840896</td>\n",
       "      <td>0.972500</td>\n",
       "      <td>0.507463</td>\n",
       "      <td>3410.000000</td>\n",
       "      <td>6946.000000</td>\n",
       "      <td>8714.000000</td>\n",
       "    </tr>\n",
       "  </tbody>\n",
       "</table>\n",
       "</div>"
      ],
      "text/plain": [
       "         instant    season        yr       mnth   holiday   weekday  \\\n",
       "mean  366.000000  2.496580  0.500684   6.519836  0.028728  2.997264   \n",
       "std   211.165812  1.110807  0.500342   3.451913  0.167155  2.004787   \n",
       "min     1.000000  1.000000  0.000000   1.000000  0.000000  0.000000   \n",
       "max   731.000000  4.000000  1.000000  12.000000  1.000000  6.000000   \n",
       "\n",
       "      workingday  weathersit      temp     atemp       hum  windspeed  \\\n",
       "mean    0.683995    1.395349  0.495385  0.474354  0.627894   0.190486   \n",
       "std     0.465233    0.544894  0.183051  0.162961  0.142429   0.077498   \n",
       "min     0.000000    1.000000  0.059130  0.079070  0.000000   0.022392   \n",
       "max     1.000000    3.000000  0.861667  0.840896  0.972500   0.507463   \n",
       "\n",
       "           casual   registered          cnt  \n",
       "mean   848.176471  3656.172367  4504.348837  \n",
       "std    686.622488  1560.256377  1937.211452  \n",
       "min      2.000000    20.000000    22.000000  \n",
       "max   3410.000000  6946.000000  8714.000000  "
      ]
     },
     "execution_count": 10,
     "metadata": {},
     "output_type": "execute_result"
    }
   ],
   "source": [
    "df_day.describe().loc[['mean', 'std', 'min', 'max']]"
   ]
  },
  {
   "cell_type": "markdown",
   "metadata": {
    "id": "MZcVPl8nvXZe"
   },
   "source": [
    "**Interpretasi:** Pada *dataset* `df_day`, semua atribut mengandung nilai-nilai observasi dalam rentang kewajarannya."
   ]
  },
  {
   "cell_type": "code",
   "execution_count": 11,
   "metadata": {
    "colab": {
     "base_uri": "https://localhost:8080/",
     "height": 195
    },
    "id": "yIOHzxpbqEAp",
    "outputId": "a1bb9ee8-7964-466d-af2b-0e1dae151a6c"
   },
   "outputs": [
    {
     "data": {
      "text/html": [
       "<div>\n",
       "<style scoped>\n",
       "    .dataframe tbody tr th:only-of-type {\n",
       "        vertical-align: middle;\n",
       "    }\n",
       "\n",
       "    .dataframe tbody tr th {\n",
       "        vertical-align: top;\n",
       "    }\n",
       "\n",
       "    .dataframe thead th {\n",
       "        text-align: right;\n",
       "    }\n",
       "</style>\n",
       "<table border=\"1\" class=\"dataframe\">\n",
       "  <thead>\n",
       "    <tr style=\"text-align: right;\">\n",
       "      <th></th>\n",
       "      <th>instant</th>\n",
       "      <th>season</th>\n",
       "      <th>yr</th>\n",
       "      <th>mnth</th>\n",
       "      <th>hr</th>\n",
       "      <th>holiday</th>\n",
       "      <th>weekday</th>\n",
       "      <th>workingday</th>\n",
       "      <th>weathersit</th>\n",
       "      <th>temp</th>\n",
       "      <th>atemp</th>\n",
       "      <th>hum</th>\n",
       "      <th>windspeed</th>\n",
       "      <th>casual</th>\n",
       "      <th>registered</th>\n",
       "      <th>cnt</th>\n",
       "    </tr>\n",
       "  </thead>\n",
       "  <tbody>\n",
       "    <tr>\n",
       "      <th>mean</th>\n",
       "      <td>8690.0000</td>\n",
       "      <td>2.501640</td>\n",
       "      <td>0.502561</td>\n",
       "      <td>6.537775</td>\n",
       "      <td>11.546752</td>\n",
       "      <td>0.028770</td>\n",
       "      <td>3.003683</td>\n",
       "      <td>0.682721</td>\n",
       "      <td>1.425283</td>\n",
       "      <td>0.496987</td>\n",
       "      <td>0.475775</td>\n",
       "      <td>0.627229</td>\n",
       "      <td>0.190098</td>\n",
       "      <td>35.676218</td>\n",
       "      <td>153.786869</td>\n",
       "      <td>189.463088</td>\n",
       "    </tr>\n",
       "    <tr>\n",
       "      <th>std</th>\n",
       "      <td>5017.0295</td>\n",
       "      <td>1.106918</td>\n",
       "      <td>0.500008</td>\n",
       "      <td>3.438776</td>\n",
       "      <td>6.914405</td>\n",
       "      <td>0.167165</td>\n",
       "      <td>2.005771</td>\n",
       "      <td>0.465431</td>\n",
       "      <td>0.639357</td>\n",
       "      <td>0.192556</td>\n",
       "      <td>0.171850</td>\n",
       "      <td>0.192930</td>\n",
       "      <td>0.122340</td>\n",
       "      <td>49.305030</td>\n",
       "      <td>151.357286</td>\n",
       "      <td>181.387599</td>\n",
       "    </tr>\n",
       "    <tr>\n",
       "      <th>min</th>\n",
       "      <td>1.0000</td>\n",
       "      <td>1.000000</td>\n",
       "      <td>0.000000</td>\n",
       "      <td>1.000000</td>\n",
       "      <td>0.000000</td>\n",
       "      <td>0.000000</td>\n",
       "      <td>0.000000</td>\n",
       "      <td>0.000000</td>\n",
       "      <td>1.000000</td>\n",
       "      <td>0.020000</td>\n",
       "      <td>0.000000</td>\n",
       "      <td>0.000000</td>\n",
       "      <td>0.000000</td>\n",
       "      <td>0.000000</td>\n",
       "      <td>0.000000</td>\n",
       "      <td>1.000000</td>\n",
       "    </tr>\n",
       "    <tr>\n",
       "      <th>max</th>\n",
       "      <td>17379.0000</td>\n",
       "      <td>4.000000</td>\n",
       "      <td>1.000000</td>\n",
       "      <td>12.000000</td>\n",
       "      <td>23.000000</td>\n",
       "      <td>1.000000</td>\n",
       "      <td>6.000000</td>\n",
       "      <td>1.000000</td>\n",
       "      <td>4.000000</td>\n",
       "      <td>1.000000</td>\n",
       "      <td>1.000000</td>\n",
       "      <td>1.000000</td>\n",
       "      <td>0.850700</td>\n",
       "      <td>367.000000</td>\n",
       "      <td>886.000000</td>\n",
       "      <td>977.000000</td>\n",
       "    </tr>\n",
       "  </tbody>\n",
       "</table>\n",
       "</div>"
      ],
      "text/plain": [
       "         instant    season        yr       mnth         hr   holiday  \\\n",
       "mean   8690.0000  2.501640  0.502561   6.537775  11.546752  0.028770   \n",
       "std    5017.0295  1.106918  0.500008   3.438776   6.914405  0.167165   \n",
       "min       1.0000  1.000000  0.000000   1.000000   0.000000  0.000000   \n",
       "max   17379.0000  4.000000  1.000000  12.000000  23.000000  1.000000   \n",
       "\n",
       "       weekday  workingday  weathersit      temp     atemp       hum  \\\n",
       "mean  3.003683    0.682721    1.425283  0.496987  0.475775  0.627229   \n",
       "std   2.005771    0.465431    0.639357  0.192556  0.171850  0.192930   \n",
       "min   0.000000    0.000000    1.000000  0.020000  0.000000  0.000000   \n",
       "max   6.000000    1.000000    4.000000  1.000000  1.000000  1.000000   \n",
       "\n",
       "      windspeed      casual  registered         cnt  \n",
       "mean   0.190098   35.676218  153.786869  189.463088  \n",
       "std    0.122340   49.305030  151.357286  181.387599  \n",
       "min    0.000000    0.000000    0.000000    1.000000  \n",
       "max    0.850700  367.000000  886.000000  977.000000  "
      ]
     },
     "execution_count": 11,
     "metadata": {},
     "output_type": "execute_result"
    }
   ],
   "source": [
    "df_hour.describe().loc[['mean', 'std', 'min', 'max']]"
   ]
  },
  {
   "cell_type": "markdown",
   "metadata": {
    "id": "bSuyEqW2vZR7"
   },
   "source": [
    "**Interpretasi:** Pada *dataset* `df_hour`, semua atribut mengandung nilai-nilai observasi dalam rentang kewajarannya."
   ]
  },
  {
   "cell_type": "markdown",
   "metadata": {
    "id": "EhN5R4hr8DC1"
   },
   "source": [
    "### Cleaning Data"
   ]
  },
  {
   "cell_type": "markdown",
   "metadata": {
    "id": "b3BEnrRbI_GI"
   },
   "source": [
    "Tipe data atribut `dteday` diubah menuju *datetime*."
   ]
  },
  {
   "cell_type": "code",
   "execution_count": 12,
   "metadata": {
    "colab": {
     "base_uri": "https://localhost:8080/"
    },
    "id": "6IbWx8qCI_NW",
    "outputId": "b797f2e1-20db-4fe5-e111-871001cd2ba7"
   },
   "outputs": [
    {
     "name": "stdout",
     "output_type": "stream",
     "text": [
      "<class 'pandas.core.frame.DataFrame'>\n",
      "RangeIndex: 731 entries, 0 to 730\n",
      "Data columns (total 16 columns):\n",
      " #   Column      Non-Null Count  Dtype         \n",
      "---  ------      --------------  -----         \n",
      " 0   instant     731 non-null    int64         \n",
      " 1   dteday      731 non-null    datetime64[ns]\n",
      " 2   season      731 non-null    int64         \n",
      " 3   yr          731 non-null    int64         \n",
      " 4   mnth        731 non-null    int64         \n",
      " 5   holiday     731 non-null    int64         \n",
      " 6   weekday     731 non-null    int64         \n",
      " 7   workingday  731 non-null    int64         \n",
      " 8   weathersit  731 non-null    int64         \n",
      " 9   temp        731 non-null    float64       \n",
      " 10  atemp       731 non-null    float64       \n",
      " 11  hum         731 non-null    float64       \n",
      " 12  windspeed   731 non-null    float64       \n",
      " 13  casual      731 non-null    int64         \n",
      " 14  registered  731 non-null    int64         \n",
      " 15  cnt         731 non-null    int64         \n",
      "dtypes: datetime64[ns](1), float64(4), int64(11)\n",
      "memory usage: 91.5 KB\n"
     ]
    }
   ],
   "source": [
    "#df_day\n",
    "df_day['dteday'] = pd.to_datetime(df_day['dteday'])\n",
    "df_day.info()"
   ]
  },
  {
   "cell_type": "code",
   "execution_count": 13,
   "metadata": {
    "colab": {
     "base_uri": "https://localhost:8080/"
    },
    "id": "bYjkd5zjJjEJ",
    "outputId": "49ec9988-b663-4a73-9012-be3f3323c8a1"
   },
   "outputs": [
    {
     "name": "stdout",
     "output_type": "stream",
     "text": [
      "<class 'pandas.core.frame.DataFrame'>\n",
      "RangeIndex: 17379 entries, 0 to 17378\n",
      "Data columns (total 17 columns):\n",
      " #   Column      Non-Null Count  Dtype         \n",
      "---  ------      --------------  -----         \n",
      " 0   instant     17379 non-null  int64         \n",
      " 1   dteday      17379 non-null  datetime64[ns]\n",
      " 2   season      17379 non-null  int64         \n",
      " 3   yr          17379 non-null  int64         \n",
      " 4   mnth        17379 non-null  int64         \n",
      " 5   hr          17379 non-null  int64         \n",
      " 6   holiday     17379 non-null  int64         \n",
      " 7   weekday     17379 non-null  int64         \n",
      " 8   workingday  17379 non-null  int64         \n",
      " 9   weathersit  17379 non-null  int64         \n",
      " 10  temp        17379 non-null  float64       \n",
      " 11  atemp       17379 non-null  float64       \n",
      " 12  hum         17379 non-null  float64       \n",
      " 13  windspeed   17379 non-null  float64       \n",
      " 14  casual      17379 non-null  int64         \n",
      " 15  registered  17379 non-null  int64         \n",
      " 16  cnt         17379 non-null  int64         \n",
      "dtypes: datetime64[ns](1), float64(4), int64(12)\n",
      "memory usage: 2.3 MB\n"
     ]
    }
   ],
   "source": [
    "#df_hour\n",
    "df_hour['dteday'] = pd.to_datetime(df_hour['dteday'])\n",
    "df_hour.info()"
   ]
  },
  {
   "cell_type": "markdown",
   "metadata": {
    "id": "hapnSOc7nbfD"
   },
   "source": [
    "Selain itu, karena atribut:\n",
    "- `instant` berperan serupa dengan indeks otomatis dari *DataFrame* Python,\n",
    "- `dteday`, `yr`, dan `mnth` tidak dibutuhkan untuk menjawab permasalahan bisnis,\n",
    "- `atemp` berperan serupa dengan atribut `temp`, dan\n",
    "- `holiday` dan `weekday` berperan serupa dengan atribut `workingday`,\n",
    "ketujuh atribut tersebut dikeluarkan dari kedua *dataset*."
   ]
  },
  {
   "cell_type": "code",
   "execution_count": 14,
   "metadata": {
    "id": "jVnYpprE9Evz"
   },
   "outputs": [],
   "source": [
    "df_day = df_day.drop(['instant', 'dteday', 'yr', 'mnth', 'holiday', 'weekday', 'atemp'], axis = 1)\n",
    "df_hour = df_hour.drop(['instant', 'dteday', 'yr', 'mnth', 'holiday', 'weekday', 'atemp'], axis = 1)"
   ]
  },
  {
   "cell_type": "code",
   "execution_count": 15,
   "metadata": {
    "colab": {
     "base_uri": "https://localhost:8080/",
     "height": 206
    },
    "id": "Mki_dN8ps9FF",
    "outputId": "709a626d-aad7-4215-e850-bdbf4581911d"
   },
   "outputs": [
    {
     "data": {
      "text/html": [
       "<div>\n",
       "<style scoped>\n",
       "    .dataframe tbody tr th:only-of-type {\n",
       "        vertical-align: middle;\n",
       "    }\n",
       "\n",
       "    .dataframe tbody tr th {\n",
       "        vertical-align: top;\n",
       "    }\n",
       "\n",
       "    .dataframe thead th {\n",
       "        text-align: right;\n",
       "    }\n",
       "</style>\n",
       "<table border=\"1\" class=\"dataframe\">\n",
       "  <thead>\n",
       "    <tr style=\"text-align: right;\">\n",
       "      <th></th>\n",
       "      <th>season</th>\n",
       "      <th>workingday</th>\n",
       "      <th>weathersit</th>\n",
       "      <th>temp</th>\n",
       "      <th>hum</th>\n",
       "      <th>windspeed</th>\n",
       "      <th>casual</th>\n",
       "      <th>registered</th>\n",
       "      <th>cnt</th>\n",
       "    </tr>\n",
       "  </thead>\n",
       "  <tbody>\n",
       "    <tr>\n",
       "      <th>0</th>\n",
       "      <td>1</td>\n",
       "      <td>0</td>\n",
       "      <td>2</td>\n",
       "      <td>0.344167</td>\n",
       "      <td>0.805833</td>\n",
       "      <td>0.160446</td>\n",
       "      <td>331</td>\n",
       "      <td>654</td>\n",
       "      <td>985</td>\n",
       "    </tr>\n",
       "    <tr>\n",
       "      <th>1</th>\n",
       "      <td>1</td>\n",
       "      <td>0</td>\n",
       "      <td>2</td>\n",
       "      <td>0.363478</td>\n",
       "      <td>0.696087</td>\n",
       "      <td>0.248539</td>\n",
       "      <td>131</td>\n",
       "      <td>670</td>\n",
       "      <td>801</td>\n",
       "    </tr>\n",
       "    <tr>\n",
       "      <th>2</th>\n",
       "      <td>1</td>\n",
       "      <td>1</td>\n",
       "      <td>1</td>\n",
       "      <td>0.196364</td>\n",
       "      <td>0.437273</td>\n",
       "      <td>0.248309</td>\n",
       "      <td>120</td>\n",
       "      <td>1229</td>\n",
       "      <td>1349</td>\n",
       "    </tr>\n",
       "    <tr>\n",
       "      <th>3</th>\n",
       "      <td>1</td>\n",
       "      <td>1</td>\n",
       "      <td>1</td>\n",
       "      <td>0.200000</td>\n",
       "      <td>0.590435</td>\n",
       "      <td>0.160296</td>\n",
       "      <td>108</td>\n",
       "      <td>1454</td>\n",
       "      <td>1562</td>\n",
       "    </tr>\n",
       "    <tr>\n",
       "      <th>4</th>\n",
       "      <td>1</td>\n",
       "      <td>1</td>\n",
       "      <td>1</td>\n",
       "      <td>0.226957</td>\n",
       "      <td>0.436957</td>\n",
       "      <td>0.186900</td>\n",
       "      <td>82</td>\n",
       "      <td>1518</td>\n",
       "      <td>1600</td>\n",
       "    </tr>\n",
       "  </tbody>\n",
       "</table>\n",
       "</div>"
      ],
      "text/plain": [
       "   season  workingday  weathersit      temp       hum  windspeed  casual  \\\n",
       "0       1           0           2  0.344167  0.805833   0.160446     331   \n",
       "1       1           0           2  0.363478  0.696087   0.248539     131   \n",
       "2       1           1           1  0.196364  0.437273   0.248309     120   \n",
       "3       1           1           1  0.200000  0.590435   0.160296     108   \n",
       "4       1           1           1  0.226957  0.436957   0.186900      82   \n",
       "\n",
       "   registered   cnt  \n",
       "0         654   985  \n",
       "1         670   801  \n",
       "2        1229  1349  \n",
       "3        1454  1562  \n",
       "4        1518  1600  "
      ]
     },
     "execution_count": 15,
     "metadata": {},
     "output_type": "execute_result"
    }
   ],
   "source": [
    "df_day.head()"
   ]
  },
  {
   "cell_type": "markdown",
   "metadata": {
    "id": "0azgtX3Is9M9"
   },
   "source": [
    "Pada *dataset* `df_day`, tersisa sepuluh atribut."
   ]
  },
  {
   "cell_type": "code",
   "execution_count": 16,
   "metadata": {
    "colab": {
     "base_uri": "https://localhost:8080/",
     "height": 206
    },
    "id": "pTDP2w0Us9Uw",
    "outputId": "13803255-149a-4466-c283-b492c3800859"
   },
   "outputs": [
    {
     "data": {
      "text/html": [
       "<div>\n",
       "<style scoped>\n",
       "    .dataframe tbody tr th:only-of-type {\n",
       "        vertical-align: middle;\n",
       "    }\n",
       "\n",
       "    .dataframe tbody tr th {\n",
       "        vertical-align: top;\n",
       "    }\n",
       "\n",
       "    .dataframe thead th {\n",
       "        text-align: right;\n",
       "    }\n",
       "</style>\n",
       "<table border=\"1\" class=\"dataframe\">\n",
       "  <thead>\n",
       "    <tr style=\"text-align: right;\">\n",
       "      <th></th>\n",
       "      <th>season</th>\n",
       "      <th>hr</th>\n",
       "      <th>workingday</th>\n",
       "      <th>weathersit</th>\n",
       "      <th>temp</th>\n",
       "      <th>hum</th>\n",
       "      <th>windspeed</th>\n",
       "      <th>casual</th>\n",
       "      <th>registered</th>\n",
       "      <th>cnt</th>\n",
       "    </tr>\n",
       "  </thead>\n",
       "  <tbody>\n",
       "    <tr>\n",
       "      <th>0</th>\n",
       "      <td>1</td>\n",
       "      <td>0</td>\n",
       "      <td>0</td>\n",
       "      <td>1</td>\n",
       "      <td>0.24</td>\n",
       "      <td>0.81</td>\n",
       "      <td>0.0</td>\n",
       "      <td>3</td>\n",
       "      <td>13</td>\n",
       "      <td>16</td>\n",
       "    </tr>\n",
       "    <tr>\n",
       "      <th>1</th>\n",
       "      <td>1</td>\n",
       "      <td>1</td>\n",
       "      <td>0</td>\n",
       "      <td>1</td>\n",
       "      <td>0.22</td>\n",
       "      <td>0.80</td>\n",
       "      <td>0.0</td>\n",
       "      <td>8</td>\n",
       "      <td>32</td>\n",
       "      <td>40</td>\n",
       "    </tr>\n",
       "    <tr>\n",
       "      <th>2</th>\n",
       "      <td>1</td>\n",
       "      <td>2</td>\n",
       "      <td>0</td>\n",
       "      <td>1</td>\n",
       "      <td>0.22</td>\n",
       "      <td>0.80</td>\n",
       "      <td>0.0</td>\n",
       "      <td>5</td>\n",
       "      <td>27</td>\n",
       "      <td>32</td>\n",
       "    </tr>\n",
       "    <tr>\n",
       "      <th>3</th>\n",
       "      <td>1</td>\n",
       "      <td>3</td>\n",
       "      <td>0</td>\n",
       "      <td>1</td>\n",
       "      <td>0.24</td>\n",
       "      <td>0.75</td>\n",
       "      <td>0.0</td>\n",
       "      <td>3</td>\n",
       "      <td>10</td>\n",
       "      <td>13</td>\n",
       "    </tr>\n",
       "    <tr>\n",
       "      <th>4</th>\n",
       "      <td>1</td>\n",
       "      <td>4</td>\n",
       "      <td>0</td>\n",
       "      <td>1</td>\n",
       "      <td>0.24</td>\n",
       "      <td>0.75</td>\n",
       "      <td>0.0</td>\n",
       "      <td>0</td>\n",
       "      <td>1</td>\n",
       "      <td>1</td>\n",
       "    </tr>\n",
       "  </tbody>\n",
       "</table>\n",
       "</div>"
      ],
      "text/plain": [
       "   season  hr  workingday  weathersit  temp   hum  windspeed  casual  \\\n",
       "0       1   0           0           1  0.24  0.81        0.0       3   \n",
       "1       1   1           0           1  0.22  0.80        0.0       8   \n",
       "2       1   2           0           1  0.22  0.80        0.0       5   \n",
       "3       1   3           0           1  0.24  0.75        0.0       3   \n",
       "4       1   4           0           1  0.24  0.75        0.0       0   \n",
       "\n",
       "   registered  cnt  \n",
       "0          13   16  \n",
       "1          32   40  \n",
       "2          27   32  \n",
       "3          10   13  \n",
       "4           1    1  "
      ]
     },
     "execution_count": 16,
     "metadata": {},
     "output_type": "execute_result"
    }
   ],
   "source": [
    "df_hour.head()"
   ]
  },
  {
   "cell_type": "markdown",
   "metadata": {
    "id": "bxA1mEZ1s9c0"
   },
   "source": [
    "Pada *dataset* `df_hour`, tersisa sebelas atribut."
   ]
  },
  {
   "cell_type": "markdown",
   "metadata": {
    "id": "gp-Y6wU38DC1"
   },
   "source": [
    "## Exploratory Data Analysis (EDA)"
   ]
  },
  {
   "cell_type": "markdown",
   "metadata": {
    "id": "tLsMo2oVISI3"
   },
   "source": [
    "### Korelasi antaratribut"
   ]
  },
  {
   "cell_type": "code",
   "execution_count": 17,
   "metadata": {
    "colab": {
     "base_uri": "https://localhost:8080/",
     "height": 332
    },
    "id": "RcF58gMkISPR",
    "outputId": "05de500f-8369-4a12-c04d-5dc6aa27a332"
   },
   "outputs": [
    {
     "data": {
      "text/html": [
       "<div>\n",
       "<style scoped>\n",
       "    .dataframe tbody tr th:only-of-type {\n",
       "        vertical-align: middle;\n",
       "    }\n",
       "\n",
       "    .dataframe tbody tr th {\n",
       "        vertical-align: top;\n",
       "    }\n",
       "\n",
       "    .dataframe thead th {\n",
       "        text-align: right;\n",
       "    }\n",
       "</style>\n",
       "<table border=\"1\" class=\"dataframe\">\n",
       "  <thead>\n",
       "    <tr style=\"text-align: right;\">\n",
       "      <th></th>\n",
       "      <th>season</th>\n",
       "      <th>workingday</th>\n",
       "      <th>weathersit</th>\n",
       "      <th>temp</th>\n",
       "      <th>hum</th>\n",
       "      <th>windspeed</th>\n",
       "      <th>casual</th>\n",
       "      <th>registered</th>\n",
       "      <th>cnt</th>\n",
       "    </tr>\n",
       "  </thead>\n",
       "  <tbody>\n",
       "    <tr>\n",
       "      <th>season</th>\n",
       "      <td>1.000000</td>\n",
       "      <td>0.012485</td>\n",
       "      <td>0.019211</td>\n",
       "      <td>0.334315</td>\n",
       "      <td>0.205445</td>\n",
       "      <td>-0.229046</td>\n",
       "      <td>0.210399</td>\n",
       "      <td>0.411623</td>\n",
       "      <td>0.406100</td>\n",
       "    </tr>\n",
       "    <tr>\n",
       "      <th>workingday</th>\n",
       "      <td>0.012485</td>\n",
       "      <td>1.000000</td>\n",
       "      <td>0.061200</td>\n",
       "      <td>0.052660</td>\n",
       "      <td>0.024327</td>\n",
       "      <td>-0.018796</td>\n",
       "      <td>-0.518044</td>\n",
       "      <td>0.303907</td>\n",
       "      <td>0.061156</td>\n",
       "    </tr>\n",
       "    <tr>\n",
       "      <th>weathersit</th>\n",
       "      <td>0.019211</td>\n",
       "      <td>0.061200</td>\n",
       "      <td>1.000000</td>\n",
       "      <td>-0.120602</td>\n",
       "      <td>0.591045</td>\n",
       "      <td>0.039511</td>\n",
       "      <td>-0.247353</td>\n",
       "      <td>-0.260388</td>\n",
       "      <td>-0.297391</td>\n",
       "    </tr>\n",
       "    <tr>\n",
       "      <th>temp</th>\n",
       "      <td>0.334315</td>\n",
       "      <td>0.052660</td>\n",
       "      <td>-0.120602</td>\n",
       "      <td>1.000000</td>\n",
       "      <td>0.126963</td>\n",
       "      <td>-0.157944</td>\n",
       "      <td>0.543285</td>\n",
       "      <td>0.540012</td>\n",
       "      <td>0.627494</td>\n",
       "    </tr>\n",
       "    <tr>\n",
       "      <th>hum</th>\n",
       "      <td>0.205445</td>\n",
       "      <td>0.024327</td>\n",
       "      <td>0.591045</td>\n",
       "      <td>0.126963</td>\n",
       "      <td>1.000000</td>\n",
       "      <td>-0.248489</td>\n",
       "      <td>-0.077008</td>\n",
       "      <td>-0.091089</td>\n",
       "      <td>-0.100659</td>\n",
       "    </tr>\n",
       "    <tr>\n",
       "      <th>windspeed</th>\n",
       "      <td>-0.229046</td>\n",
       "      <td>-0.018796</td>\n",
       "      <td>0.039511</td>\n",
       "      <td>-0.157944</td>\n",
       "      <td>-0.248489</td>\n",
       "      <td>1.000000</td>\n",
       "      <td>-0.167613</td>\n",
       "      <td>-0.217449</td>\n",
       "      <td>-0.234545</td>\n",
       "    </tr>\n",
       "    <tr>\n",
       "      <th>casual</th>\n",
       "      <td>0.210399</td>\n",
       "      <td>-0.518044</td>\n",
       "      <td>-0.247353</td>\n",
       "      <td>0.543285</td>\n",
       "      <td>-0.077008</td>\n",
       "      <td>-0.167613</td>\n",
       "      <td>1.000000</td>\n",
       "      <td>0.395282</td>\n",
       "      <td>0.672804</td>\n",
       "    </tr>\n",
       "    <tr>\n",
       "      <th>registered</th>\n",
       "      <td>0.411623</td>\n",
       "      <td>0.303907</td>\n",
       "      <td>-0.260388</td>\n",
       "      <td>0.540012</td>\n",
       "      <td>-0.091089</td>\n",
       "      <td>-0.217449</td>\n",
       "      <td>0.395282</td>\n",
       "      <td>1.000000</td>\n",
       "      <td>0.945517</td>\n",
       "    </tr>\n",
       "    <tr>\n",
       "      <th>cnt</th>\n",
       "      <td>0.406100</td>\n",
       "      <td>0.061156</td>\n",
       "      <td>-0.297391</td>\n",
       "      <td>0.627494</td>\n",
       "      <td>-0.100659</td>\n",
       "      <td>-0.234545</td>\n",
       "      <td>0.672804</td>\n",
       "      <td>0.945517</td>\n",
       "      <td>1.000000</td>\n",
       "    </tr>\n",
       "  </tbody>\n",
       "</table>\n",
       "</div>"
      ],
      "text/plain": [
       "              season  workingday  weathersit      temp       hum  windspeed  \\\n",
       "season      1.000000    0.012485    0.019211  0.334315  0.205445  -0.229046   \n",
       "workingday  0.012485    1.000000    0.061200  0.052660  0.024327  -0.018796   \n",
       "weathersit  0.019211    0.061200    1.000000 -0.120602  0.591045   0.039511   \n",
       "temp        0.334315    0.052660   -0.120602  1.000000  0.126963  -0.157944   \n",
       "hum         0.205445    0.024327    0.591045  0.126963  1.000000  -0.248489   \n",
       "windspeed  -0.229046   -0.018796    0.039511 -0.157944 -0.248489   1.000000   \n",
       "casual      0.210399   -0.518044   -0.247353  0.543285 -0.077008  -0.167613   \n",
       "registered  0.411623    0.303907   -0.260388  0.540012 -0.091089  -0.217449   \n",
       "cnt         0.406100    0.061156   -0.297391  0.627494 -0.100659  -0.234545   \n",
       "\n",
       "              casual  registered       cnt  \n",
       "season      0.210399    0.411623  0.406100  \n",
       "workingday -0.518044    0.303907  0.061156  \n",
       "weathersit -0.247353   -0.260388 -0.297391  \n",
       "temp        0.543285    0.540012  0.627494  \n",
       "hum        -0.077008   -0.091089 -0.100659  \n",
       "windspeed  -0.167613   -0.217449 -0.234545  \n",
       "casual      1.000000    0.395282  0.672804  \n",
       "registered  0.395282    1.000000  0.945517  \n",
       "cnt         0.672804    0.945517  1.000000  "
      ]
     },
     "execution_count": 17,
     "metadata": {},
     "output_type": "execute_result"
    }
   ],
   "source": [
    "#df_day\n",
    "df_day.corr()"
   ]
  },
  {
   "cell_type": "markdown",
   "metadata": {
    "id": "tum8mpPBIX1U"
   },
   "source": [
    "**Interpretasi:**<br>\n",
    "- Korelasi terkuat ditunjukkan oleh pasangan atribut `cnt` dengan `registered`.\n",
    "- Korelasi terlemah ditunjukkan oleh pasangan atribut `season` dengan `workingday`."
   ]
  },
  {
   "cell_type": "code",
   "execution_count": 18,
   "metadata": {
    "colab": {
     "base_uri": "https://localhost:8080/",
     "height": 363
    },
    "id": "9OeARXPlIX8J",
    "outputId": "077fe24c-6944-4c36-af89-5665a2900989"
   },
   "outputs": [
    {
     "data": {
      "text/html": [
       "<div>\n",
       "<style scoped>\n",
       "    .dataframe tbody tr th:only-of-type {\n",
       "        vertical-align: middle;\n",
       "    }\n",
       "\n",
       "    .dataframe tbody tr th {\n",
       "        vertical-align: top;\n",
       "    }\n",
       "\n",
       "    .dataframe thead th {\n",
       "        text-align: right;\n",
       "    }\n",
       "</style>\n",
       "<table border=\"1\" class=\"dataframe\">\n",
       "  <thead>\n",
       "    <tr style=\"text-align: right;\">\n",
       "      <th></th>\n",
       "      <th>season</th>\n",
       "      <th>hr</th>\n",
       "      <th>workingday</th>\n",
       "      <th>weathersit</th>\n",
       "      <th>temp</th>\n",
       "      <th>hum</th>\n",
       "      <th>windspeed</th>\n",
       "      <th>casual</th>\n",
       "      <th>registered</th>\n",
       "      <th>cnt</th>\n",
       "    </tr>\n",
       "  </thead>\n",
       "  <tbody>\n",
       "    <tr>\n",
       "      <th>season</th>\n",
       "      <td>1.000000</td>\n",
       "      <td>-0.006117</td>\n",
       "      <td>0.013743</td>\n",
       "      <td>-0.014524</td>\n",
       "      <td>0.312025</td>\n",
       "      <td>0.150625</td>\n",
       "      <td>-0.149773</td>\n",
       "      <td>0.120206</td>\n",
       "      <td>0.174226</td>\n",
       "      <td>0.178056</td>\n",
       "    </tr>\n",
       "    <tr>\n",
       "      <th>hr</th>\n",
       "      <td>-0.006117</td>\n",
       "      <td>1.000000</td>\n",
       "      <td>0.002285</td>\n",
       "      <td>-0.020203</td>\n",
       "      <td>0.137603</td>\n",
       "      <td>-0.276498</td>\n",
       "      <td>0.137252</td>\n",
       "      <td>0.301202</td>\n",
       "      <td>0.374141</td>\n",
       "      <td>0.394071</td>\n",
       "    </tr>\n",
       "    <tr>\n",
       "      <th>workingday</th>\n",
       "      <td>0.013743</td>\n",
       "      <td>0.002285</td>\n",
       "      <td>1.000000</td>\n",
       "      <td>0.044672</td>\n",
       "      <td>0.055390</td>\n",
       "      <td>0.015688</td>\n",
       "      <td>-0.011830</td>\n",
       "      <td>-0.300942</td>\n",
       "      <td>0.134326</td>\n",
       "      <td>0.030284</td>\n",
       "    </tr>\n",
       "    <tr>\n",
       "      <th>weathersit</th>\n",
       "      <td>-0.014524</td>\n",
       "      <td>-0.020203</td>\n",
       "      <td>0.044672</td>\n",
       "      <td>1.000000</td>\n",
       "      <td>-0.102640</td>\n",
       "      <td>0.418130</td>\n",
       "      <td>0.026226</td>\n",
       "      <td>-0.152628</td>\n",
       "      <td>-0.120966</td>\n",
       "      <td>-0.142426</td>\n",
       "    </tr>\n",
       "    <tr>\n",
       "      <th>temp</th>\n",
       "      <td>0.312025</td>\n",
       "      <td>0.137603</td>\n",
       "      <td>0.055390</td>\n",
       "      <td>-0.102640</td>\n",
       "      <td>1.000000</td>\n",
       "      <td>-0.069881</td>\n",
       "      <td>-0.023125</td>\n",
       "      <td>0.459616</td>\n",
       "      <td>0.335361</td>\n",
       "      <td>0.404772</td>\n",
       "    </tr>\n",
       "    <tr>\n",
       "      <th>hum</th>\n",
       "      <td>0.150625</td>\n",
       "      <td>-0.276498</td>\n",
       "      <td>0.015688</td>\n",
       "      <td>0.418130</td>\n",
       "      <td>-0.069881</td>\n",
       "      <td>1.000000</td>\n",
       "      <td>-0.290105</td>\n",
       "      <td>-0.347028</td>\n",
       "      <td>-0.273933</td>\n",
       "      <td>-0.322911</td>\n",
       "    </tr>\n",
       "    <tr>\n",
       "      <th>windspeed</th>\n",
       "      <td>-0.149773</td>\n",
       "      <td>0.137252</td>\n",
       "      <td>-0.011830</td>\n",
       "      <td>0.026226</td>\n",
       "      <td>-0.023125</td>\n",
       "      <td>-0.290105</td>\n",
       "      <td>1.000000</td>\n",
       "      <td>0.090287</td>\n",
       "      <td>0.082321</td>\n",
       "      <td>0.093234</td>\n",
       "    </tr>\n",
       "    <tr>\n",
       "      <th>casual</th>\n",
       "      <td>0.120206</td>\n",
       "      <td>0.301202</td>\n",
       "      <td>-0.300942</td>\n",
       "      <td>-0.152628</td>\n",
       "      <td>0.459616</td>\n",
       "      <td>-0.347028</td>\n",
       "      <td>0.090287</td>\n",
       "      <td>1.000000</td>\n",
       "      <td>0.506618</td>\n",
       "      <td>0.694564</td>\n",
       "    </tr>\n",
       "    <tr>\n",
       "      <th>registered</th>\n",
       "      <td>0.174226</td>\n",
       "      <td>0.374141</td>\n",
       "      <td>0.134326</td>\n",
       "      <td>-0.120966</td>\n",
       "      <td>0.335361</td>\n",
       "      <td>-0.273933</td>\n",
       "      <td>0.082321</td>\n",
       "      <td>0.506618</td>\n",
       "      <td>1.000000</td>\n",
       "      <td>0.972151</td>\n",
       "    </tr>\n",
       "    <tr>\n",
       "      <th>cnt</th>\n",
       "      <td>0.178056</td>\n",
       "      <td>0.394071</td>\n",
       "      <td>0.030284</td>\n",
       "      <td>-0.142426</td>\n",
       "      <td>0.404772</td>\n",
       "      <td>-0.322911</td>\n",
       "      <td>0.093234</td>\n",
       "      <td>0.694564</td>\n",
       "      <td>0.972151</td>\n",
       "      <td>1.000000</td>\n",
       "    </tr>\n",
       "  </tbody>\n",
       "</table>\n",
       "</div>"
      ],
      "text/plain": [
       "              season        hr  workingday  weathersit      temp       hum  \\\n",
       "season      1.000000 -0.006117    0.013743   -0.014524  0.312025  0.150625   \n",
       "hr         -0.006117  1.000000    0.002285   -0.020203  0.137603 -0.276498   \n",
       "workingday  0.013743  0.002285    1.000000    0.044672  0.055390  0.015688   \n",
       "weathersit -0.014524 -0.020203    0.044672    1.000000 -0.102640  0.418130   \n",
       "temp        0.312025  0.137603    0.055390   -0.102640  1.000000 -0.069881   \n",
       "hum         0.150625 -0.276498    0.015688    0.418130 -0.069881  1.000000   \n",
       "windspeed  -0.149773  0.137252   -0.011830    0.026226 -0.023125 -0.290105   \n",
       "casual      0.120206  0.301202   -0.300942   -0.152628  0.459616 -0.347028   \n",
       "registered  0.174226  0.374141    0.134326   -0.120966  0.335361 -0.273933   \n",
       "cnt         0.178056  0.394071    0.030284   -0.142426  0.404772 -0.322911   \n",
       "\n",
       "            windspeed    casual  registered       cnt  \n",
       "season      -0.149773  0.120206    0.174226  0.178056  \n",
       "hr           0.137252  0.301202    0.374141  0.394071  \n",
       "workingday  -0.011830 -0.300942    0.134326  0.030284  \n",
       "weathersit   0.026226 -0.152628   -0.120966 -0.142426  \n",
       "temp        -0.023125  0.459616    0.335361  0.404772  \n",
       "hum         -0.290105 -0.347028   -0.273933 -0.322911  \n",
       "windspeed    1.000000  0.090287    0.082321  0.093234  \n",
       "casual       0.090287  1.000000    0.506618  0.694564  \n",
       "registered   0.082321  0.506618    1.000000  0.972151  \n",
       "cnt          0.093234  0.694564    0.972151  1.000000  "
      ]
     },
     "execution_count": 18,
     "metadata": {},
     "output_type": "execute_result"
    }
   ],
   "source": [
    "#df_hour\n",
    "df_hour.corr()"
   ]
  },
  {
   "cell_type": "markdown",
   "metadata": {
    "id": "OCVgtsO1IYBr"
   },
   "source": [
    "**Interpretasi:**<br>\n",
    "- Korelasi terkuat ditunjukkan oleh pasangan atribut `cnt` dengan `registered`.\n",
    "- Korelasi terlemah ditunjukkan oleh pasangan atribut `workingday` dengan `hr`."
   ]
  },
  {
   "cell_type": "markdown",
   "metadata": {
    "id": "MW7WF2kr8DC1"
   },
   "source": [
    "### Mengelompokkan data"
   ]
  },
  {
   "cell_type": "markdown",
   "metadata": {
    "id": "lAt2iYf6Gj6n"
   },
   "source": [
    "#### `df_day`"
   ]
  },
  {
   "cell_type": "code",
   "execution_count": 19,
   "metadata": {
    "colab": {
     "base_uri": "https://localhost:8080/",
     "height": 175
    },
    "id": "EKYvge39EJqX",
    "outputId": "782cafee-a215-4e29-ec21-1ccbfcdb4cbd"
   },
   "outputs": [
    {
     "data": {
      "text/html": [
       "<div>\n",
       "<style scoped>\n",
       "    .dataframe tbody tr th:only-of-type {\n",
       "        vertical-align: middle;\n",
       "    }\n",
       "\n",
       "    .dataframe tbody tr th {\n",
       "        vertical-align: top;\n",
       "    }\n",
       "\n",
       "    .dataframe thead th {\n",
       "        text-align: right;\n",
       "    }\n",
       "</style>\n",
       "<table border=\"1\" class=\"dataframe\">\n",
       "  <thead>\n",
       "    <tr style=\"text-align: right;\">\n",
       "      <th></th>\n",
       "      <th>cnt</th>\n",
       "    </tr>\n",
       "    <tr>\n",
       "      <th>weathersit</th>\n",
       "      <th></th>\n",
       "    </tr>\n",
       "  </thead>\n",
       "  <tbody>\n",
       "    <tr>\n",
       "      <th>1</th>\n",
       "      <td>463</td>\n",
       "    </tr>\n",
       "    <tr>\n",
       "      <th>2</th>\n",
       "      <td>247</td>\n",
       "    </tr>\n",
       "    <tr>\n",
       "      <th>3</th>\n",
       "      <td>21</td>\n",
       "    </tr>\n",
       "  </tbody>\n",
       "</table>\n",
       "</div>"
      ],
      "text/plain": [
       "            cnt\n",
       "weathersit     \n",
       "1           463\n",
       "2           247\n",
       "3            21"
      ]
     },
     "execution_count": 19,
     "metadata": {},
     "output_type": "execute_result"
    }
   ],
   "source": [
    "#Jumlah hari berdasarkan cuaca\n",
    "df_day.groupby(by = 'weathersit').agg({\n",
    "    'cnt': 'count'\n",
    "})"
   ]
  },
  {
   "cell_type": "markdown",
   "metadata": {
    "id": "-LHDOS2KEXHL"
   },
   "source": [
    "**Interpretasi:** Dalam kurun tahun 2011 hingga 2012, terdapat:\n",
    "- 463 hari dengan cuaca cerah/berawan,\n",
    "- 247 hari dengan cuaca mendung/gerimis, dan\n",
    "- 21 hari dengan cuaca hujan atau bersalju ringan."
   ]
  },
  {
   "cell_type": "code",
   "execution_count": 20,
   "metadata": {
    "colab": {
     "base_uri": "https://localhost:8080/",
     "height": 206
    },
    "id": "lvVj5WmbAwFf",
    "outputId": "d79af101-31a4-4009-e59b-2da89e39cabf"
   },
   "outputs": [
    {
     "data": {
      "text/html": [
       "<div>\n",
       "<style scoped>\n",
       "    .dataframe tbody tr th:only-of-type {\n",
       "        vertical-align: middle;\n",
       "    }\n",
       "\n",
       "    .dataframe tbody tr th {\n",
       "        vertical-align: top;\n",
       "    }\n",
       "\n",
       "    .dataframe thead th {\n",
       "        text-align: right;\n",
       "    }\n",
       "</style>\n",
       "<table border=\"1\" class=\"dataframe\">\n",
       "  <thead>\n",
       "    <tr style=\"text-align: right;\">\n",
       "      <th></th>\n",
       "      <th>cnt</th>\n",
       "    </tr>\n",
       "    <tr>\n",
       "      <th>season</th>\n",
       "      <th></th>\n",
       "    </tr>\n",
       "  </thead>\n",
       "  <tbody>\n",
       "    <tr>\n",
       "      <th>1</th>\n",
       "      <td>2604.132597</td>\n",
       "    </tr>\n",
       "    <tr>\n",
       "      <th>2</th>\n",
       "      <td>4992.331522</td>\n",
       "    </tr>\n",
       "    <tr>\n",
       "      <th>3</th>\n",
       "      <td>5644.303191</td>\n",
       "    </tr>\n",
       "    <tr>\n",
       "      <th>4</th>\n",
       "      <td>4728.162921</td>\n",
       "    </tr>\n",
       "  </tbody>\n",
       "</table>\n",
       "</div>"
      ],
      "text/plain": [
       "                cnt\n",
       "season             \n",
       "1       2604.132597\n",
       "2       4992.331522\n",
       "3       5644.303191\n",
       "4       4728.162921"
      ]
     },
     "execution_count": 20,
     "metadata": {},
     "output_type": "execute_result"
    }
   ],
   "source": [
    "#Rata-rata perental harian berdasarkan musim\n",
    "df_day.groupby(by = 'season').agg({\n",
    "    'cnt': 'mean'\n",
    "})"
   ]
  },
  {
   "cell_type": "markdown",
   "metadata": {
    "id": "2nB3r2CNAwYx"
   },
   "source": [
    "**Interpretasi:**<br>\n",
    "Berdasarkan observasi harian selama dua tahun, secara rata-rata, tiap harinya terdapat sekitar:\n",
    "- 2.604 total perental pada musim semi,\n",
    "- 4.992 total perental pada musim panas,\n",
    "- 5.644 total perental pada musim gugur, dan\n",
    "- 4.728 total perental pada musim dingin."
   ]
  },
  {
   "cell_type": "code",
   "execution_count": 21,
   "metadata": {
    "colab": {
     "base_uri": "https://localhost:8080/",
     "height": 143
    },
    "id": "e9CQCZjk8DC2",
    "outputId": "1447105e-4195-44e1-c922-d3bdf6665ab5"
   },
   "outputs": [
    {
     "data": {
      "text/html": [
       "<div>\n",
       "<style scoped>\n",
       "    .dataframe tbody tr th:only-of-type {\n",
       "        vertical-align: middle;\n",
       "    }\n",
       "\n",
       "    .dataframe tbody tr th {\n",
       "        vertical-align: top;\n",
       "    }\n",
       "\n",
       "    .dataframe thead th {\n",
       "        text-align: right;\n",
       "    }\n",
       "</style>\n",
       "<table border=\"1\" class=\"dataframe\">\n",
       "  <thead>\n",
       "    <tr style=\"text-align: right;\">\n",
       "      <th></th>\n",
       "      <th>casual</th>\n",
       "      <th>registered</th>\n",
       "      <th>cnt</th>\n",
       "    </tr>\n",
       "    <tr>\n",
       "      <th>workingday</th>\n",
       "      <th></th>\n",
       "      <th></th>\n",
       "      <th></th>\n",
       "    </tr>\n",
       "  </thead>\n",
       "  <tbody>\n",
       "    <tr>\n",
       "      <th>0</th>\n",
       "      <td>1371.134199</td>\n",
       "      <td>2959.034632</td>\n",
       "      <td>4330.168831</td>\n",
       "    </tr>\n",
       "    <tr>\n",
       "      <th>1</th>\n",
       "      <td>606.570000</td>\n",
       "      <td>3978.250000</td>\n",
       "      <td>4584.820000</td>\n",
       "    </tr>\n",
       "  </tbody>\n",
       "</table>\n",
       "</div>"
      ],
      "text/plain": [
       "                 casual   registered          cnt\n",
       "workingday                                       \n",
       "0           1371.134199  2959.034632  4330.168831\n",
       "1            606.570000  3978.250000  4584.820000"
      ]
     },
     "execution_count": 21,
     "metadata": {},
     "output_type": "execute_result"
    }
   ],
   "source": [
    "#Rata-rata perental harian berdasarkan hari kerja\n",
    "df_day.groupby(by = 'workingday').agg({\n",
    "    'casual': 'mean',\n",
    "    'registered': 'mean',\n",
    "    'cnt': 'mean',\n",
    "})"
   ]
  },
  {
   "cell_type": "markdown",
   "metadata": {
    "id": "Q0wB68_TAv8z"
   },
   "source": [
    "**Interpretasi:**<br>\n",
    "Berdasarkan observasi harian selama dua tahun, secara rata-rata, tiap harinya terdapat sekitar:\n",
    "- 1.371 perental biasa pada akhir pekan atau hari libur dan 607 perental biasa pada hari kerja;\n",
    "- 2.959 perental terdaftar pada akhir pekan atau hari libur dan 3.978 perental terdaftar pada hari kerja; dan\n",
    "- 4.330 total perental pada akhir pekan atau hari libur dan 4.585 total perental pada hari kerja."
   ]
  },
  {
   "cell_type": "code",
   "execution_count": 22,
   "metadata": {
    "colab": {
     "base_uri": "https://localhost:8080/",
     "height": 175
    },
    "id": "Tj2QstUNFVRm",
    "outputId": "1664234f-4437-43b5-ea9f-99dd2f0469d7"
   },
   "outputs": [
    {
     "data": {
      "text/html": [
       "<div>\n",
       "<style scoped>\n",
       "    .dataframe tbody tr th:only-of-type {\n",
       "        vertical-align: middle;\n",
       "    }\n",
       "\n",
       "    .dataframe tbody tr th {\n",
       "        vertical-align: top;\n",
       "    }\n",
       "\n",
       "    .dataframe thead th {\n",
       "        text-align: right;\n",
       "    }\n",
       "</style>\n",
       "<table border=\"1\" class=\"dataframe\">\n",
       "  <thead>\n",
       "    <tr style=\"text-align: right;\">\n",
       "      <th></th>\n",
       "      <th>cnt</th>\n",
       "    </tr>\n",
       "    <tr>\n",
       "      <th>weathersit</th>\n",
       "      <th></th>\n",
       "    </tr>\n",
       "  </thead>\n",
       "  <tbody>\n",
       "    <tr>\n",
       "      <th>1</th>\n",
       "      <td>4876.786177</td>\n",
       "    </tr>\n",
       "    <tr>\n",
       "      <th>2</th>\n",
       "      <td>4035.862348</td>\n",
       "    </tr>\n",
       "    <tr>\n",
       "      <th>3</th>\n",
       "      <td>1803.285714</td>\n",
       "    </tr>\n",
       "  </tbody>\n",
       "</table>\n",
       "</div>"
      ],
      "text/plain": [
       "                    cnt\n",
       "weathersit             \n",
       "1           4876.786177\n",
       "2           4035.862348\n",
       "3           1803.285714"
      ]
     },
     "execution_count": 22,
     "metadata": {},
     "output_type": "execute_result"
    }
   ],
   "source": [
    "#Rata-rata perental harian berdasarkan cuaca\n",
    "df_day.groupby(by = 'weathersit').agg({\n",
    "    'cnt': 'mean'\n",
    "})"
   ]
  },
  {
   "cell_type": "markdown",
   "metadata": {
    "id": "jdC7CI6fFVW2"
   },
   "source": [
    "**Interpretasi:**<br>\n",
    "Berdasarkan observasi harian selama dua tahun, secara rata-rata, terdapat sekitar:\n",
    "- 4.877 total perental ketika cuaca cerah atau berawan,\n",
    "- 4.036 total perental ketika cuaca mendung atau gerimis, dan\n",
    "- 1.803 total perental ketika cuaca hujan atau bersalju ringan."
   ]
  },
  {
   "cell_type": "markdown",
   "metadata": {
    "id": "4qp9tWswGex7"
   },
   "source": [
    "#### `df_hour`"
   ]
  },
  {
   "cell_type": "code",
   "execution_count": 23,
   "metadata": {
    "colab": {
     "base_uri": "https://localhost:8080/",
     "height": 206
    },
    "id": "xaYgzj93F8AK",
    "outputId": "6e8489de-7a4a-4644-d482-459403cd6897"
   },
   "outputs": [
    {
     "data": {
      "text/html": [
       "<div>\n",
       "<style scoped>\n",
       "    .dataframe tbody tr th:only-of-type {\n",
       "        vertical-align: middle;\n",
       "    }\n",
       "\n",
       "    .dataframe tbody tr th {\n",
       "        vertical-align: top;\n",
       "    }\n",
       "\n",
       "    .dataframe thead th {\n",
       "        text-align: right;\n",
       "    }\n",
       "</style>\n",
       "<table border=\"1\" class=\"dataframe\">\n",
       "  <thead>\n",
       "    <tr style=\"text-align: right;\">\n",
       "      <th></th>\n",
       "      <th>cnt</th>\n",
       "    </tr>\n",
       "    <tr>\n",
       "      <th>weathersit</th>\n",
       "      <th></th>\n",
       "    </tr>\n",
       "  </thead>\n",
       "  <tbody>\n",
       "    <tr>\n",
       "      <th>1</th>\n",
       "      <td>11413</td>\n",
       "    </tr>\n",
       "    <tr>\n",
       "      <th>2</th>\n",
       "      <td>4544</td>\n",
       "    </tr>\n",
       "    <tr>\n",
       "      <th>3</th>\n",
       "      <td>1419</td>\n",
       "    </tr>\n",
       "    <tr>\n",
       "      <th>4</th>\n",
       "      <td>3</td>\n",
       "    </tr>\n",
       "  </tbody>\n",
       "</table>\n",
       "</div>"
      ],
      "text/plain": [
       "              cnt\n",
       "weathersit       \n",
       "1           11413\n",
       "2            4544\n",
       "3            1419\n",
       "4               3"
      ]
     },
     "execution_count": 23,
     "metadata": {},
     "output_type": "execute_result"
    }
   ],
   "source": [
    "#Jumlah jam berdasarkan cuaca\n",
    "df_hour.groupby(by = 'weathersit').agg({\n",
    "    'cnt': 'count'\n",
    "})"
   ]
  },
  {
   "cell_type": "markdown",
   "metadata": {
    "id": "kbLRmQZpGsfs"
   },
   "source": [
    "**Interpretasi:** Dalam kurun tahun 2011 hingga 2012, terdapat:\n",
    "- 11.413 jam dengan cuaca cerah/berawan,\n",
    "- 4.544 jam dengan cuaca mendung/gerimis,\n",
    "- 1.419 jam dengan cuaca hujan atau bersalju ringan, dan\n",
    "- 3 jam dengan cuaca hujan deras atau hujan salju berkabut."
   ]
  },
  {
   "cell_type": "code",
   "execution_count": 24,
   "metadata": {
    "colab": {
     "base_uri": "https://localhost:8080/",
     "height": 206
    },
    "id": "45eVqGaSG_OB",
    "outputId": "8c622a99-bec0-49b0-eb36-e2a9815043e0"
   },
   "outputs": [
    {
     "data": {
      "text/html": [
       "<div>\n",
       "<style scoped>\n",
       "    .dataframe tbody tr th:only-of-type {\n",
       "        vertical-align: middle;\n",
       "    }\n",
       "\n",
       "    .dataframe tbody tr th {\n",
       "        vertical-align: top;\n",
       "    }\n",
       "\n",
       "    .dataframe thead th {\n",
       "        text-align: right;\n",
       "    }\n",
       "</style>\n",
       "<table border=\"1\" class=\"dataframe\">\n",
       "  <thead>\n",
       "    <tr style=\"text-align: right;\">\n",
       "      <th></th>\n",
       "      <th>cnt</th>\n",
       "    </tr>\n",
       "    <tr>\n",
       "      <th>season</th>\n",
       "      <th></th>\n",
       "    </tr>\n",
       "  </thead>\n",
       "  <tbody>\n",
       "    <tr>\n",
       "      <th>1</th>\n",
       "      <td>111.114569</td>\n",
       "    </tr>\n",
       "    <tr>\n",
       "      <th>2</th>\n",
       "      <td>208.344069</td>\n",
       "    </tr>\n",
       "    <tr>\n",
       "      <th>3</th>\n",
       "      <td>236.016237</td>\n",
       "    </tr>\n",
       "    <tr>\n",
       "      <th>4</th>\n",
       "      <td>198.868856</td>\n",
       "    </tr>\n",
       "  </tbody>\n",
       "</table>\n",
       "</div>"
      ],
      "text/plain": [
       "               cnt\n",
       "season            \n",
       "1       111.114569\n",
       "2       208.344069\n",
       "3       236.016237\n",
       "4       198.868856"
      ]
     },
     "execution_count": 24,
     "metadata": {},
     "output_type": "execute_result"
    }
   ],
   "source": [
    "#Rata-rata perental per jam berdasarkan musim\n",
    "df_hour.groupby(by = 'season').agg({\n",
    "    'cnt': 'mean'\n",
    "})"
   ]
  },
  {
   "cell_type": "markdown",
   "metadata": {
    "id": "Z4sFtOVvG_W-"
   },
   "source": [
    "**Interpretasi:**<br>\n",
    "Berdasarkan observasi per jam selama dua tahun, secara rata-rata, tiap jamnya terdapat sekitar:\n",
    "- 111 total perental pada musim semi,\n",
    "- 208 total perental pada musim panas,\n",
    "- 236 total perental pada musim gugur, dan\n",
    "- 199 total perental pada musim dingin."
   ]
  },
  {
   "cell_type": "code",
   "execution_count": 25,
   "metadata": {
    "colab": {
     "base_uri": "https://localhost:8080/",
     "height": 143
    },
    "id": "PqwVpjBQG_ey",
    "outputId": "bd88b355-abd3-40a9-8d95-6bd6db2a2341"
   },
   "outputs": [
    {
     "data": {
      "text/html": [
       "<div>\n",
       "<style scoped>\n",
       "    .dataframe tbody tr th:only-of-type {\n",
       "        vertical-align: middle;\n",
       "    }\n",
       "\n",
       "    .dataframe tbody tr th {\n",
       "        vertical-align: top;\n",
       "    }\n",
       "\n",
       "    .dataframe thead th {\n",
       "        text-align: right;\n",
       "    }\n",
       "</style>\n",
       "<table border=\"1\" class=\"dataframe\">\n",
       "  <thead>\n",
       "    <tr style=\"text-align: right;\">\n",
       "      <th></th>\n",
       "      <th>casual</th>\n",
       "      <th>registered</th>\n",
       "      <th>cnt</th>\n",
       "    </tr>\n",
       "    <tr>\n",
       "      <th>workingday</th>\n",
       "      <th></th>\n",
       "      <th></th>\n",
       "      <th></th>\n",
       "    </tr>\n",
       "  </thead>\n",
       "  <tbody>\n",
       "    <tr>\n",
       "      <th>0</th>\n",
       "      <td>57.441422</td>\n",
       "      <td>123.963910</td>\n",
       "      <td>181.405332</td>\n",
       "    </tr>\n",
       "    <tr>\n",
       "      <th>1</th>\n",
       "      <td>25.561315</td>\n",
       "      <td>167.646439</td>\n",
       "      <td>193.207754</td>\n",
       "    </tr>\n",
       "  </tbody>\n",
       "</table>\n",
       "</div>"
      ],
      "text/plain": [
       "               casual  registered         cnt\n",
       "workingday                                   \n",
       "0           57.441422  123.963910  181.405332\n",
       "1           25.561315  167.646439  193.207754"
      ]
     },
     "execution_count": 25,
     "metadata": {},
     "output_type": "execute_result"
    }
   ],
   "source": [
    "#Rata-rata perental per jam berdasarkan hari kerja\n",
    "df_hour.groupby(by = 'workingday').agg({\n",
    "    'casual': 'mean',\n",
    "    'registered': 'mean',\n",
    "    'cnt': 'mean',\n",
    "})"
   ]
  },
  {
   "cell_type": "markdown",
   "metadata": {
    "id": "vHRpvuBCG_mX"
   },
   "source": [
    "**Interpretasi:**<br>\n",
    "Berdasarkan observasi per jam selama dua tahun, secara rata-rata, tiap jamnya terdapat sekitar:\n",
    "- 57 perental biasa pada akhir pekan atau hari libur dan 26 perental biasa pada hari kerja;\n",
    "- 124 perental terdaftar pada akhir pekan atau hari libur dan 168 perental terdaftar pada hari kerja; dan\n",
    "- 181 total perental pada akhir pekan atau hari libur dan 193 total perental pada hari kerja."
   ]
  },
  {
   "cell_type": "code",
   "execution_count": 26,
   "metadata": {
    "colab": {
     "base_uri": "https://localhost:8080/",
     "height": 206
    },
    "id": "EKjp1oCAG_tu",
    "outputId": "210f4092-38f0-4382-ceab-2f68e773c52c"
   },
   "outputs": [
    {
     "data": {
      "text/html": [
       "<div>\n",
       "<style scoped>\n",
       "    .dataframe tbody tr th:only-of-type {\n",
       "        vertical-align: middle;\n",
       "    }\n",
       "\n",
       "    .dataframe tbody tr th {\n",
       "        vertical-align: top;\n",
       "    }\n",
       "\n",
       "    .dataframe thead th {\n",
       "        text-align: right;\n",
       "    }\n",
       "</style>\n",
       "<table border=\"1\" class=\"dataframe\">\n",
       "  <thead>\n",
       "    <tr style=\"text-align: right;\">\n",
       "      <th></th>\n",
       "      <th>cnt</th>\n",
       "    </tr>\n",
       "    <tr>\n",
       "      <th>weathersit</th>\n",
       "      <th></th>\n",
       "    </tr>\n",
       "  </thead>\n",
       "  <tbody>\n",
       "    <tr>\n",
       "      <th>1</th>\n",
       "      <td>204.869272</td>\n",
       "    </tr>\n",
       "    <tr>\n",
       "      <th>2</th>\n",
       "      <td>175.165493</td>\n",
       "    </tr>\n",
       "    <tr>\n",
       "      <th>3</th>\n",
       "      <td>111.579281</td>\n",
       "    </tr>\n",
       "    <tr>\n",
       "      <th>4</th>\n",
       "      <td>74.333333</td>\n",
       "    </tr>\n",
       "  </tbody>\n",
       "</table>\n",
       "</div>"
      ],
      "text/plain": [
       "                   cnt\n",
       "weathersit            \n",
       "1           204.869272\n",
       "2           175.165493\n",
       "3           111.579281\n",
       "4            74.333333"
      ]
     },
     "execution_count": 26,
     "metadata": {},
     "output_type": "execute_result"
    }
   ],
   "source": [
    "#Rata-rata perental per jam berdasarkan cuaca\n",
    "df_hour.groupby(by = 'weathersit').agg({\n",
    "    'cnt': 'mean'\n",
    "})"
   ]
  },
  {
   "cell_type": "markdown",
   "metadata": {
    "id": "QGrdaDG6G_0l"
   },
   "source": [
    "**Interpretasi:**<br>\n",
    "Berdasarkan observasi per jam selama dua tahun, secara rata-rata, tiap jamnya terdapat sekitar:\n",
    "- 205 total perental ketika cuaca cerah atau berawan,\n",
    "- 175 total perental ketika cuaca mendung atau gerimis,\n",
    "- 112 total perental ketika cuaca hujan atau bersalju ringan, dan\n",
    "- 74 total perental ketika cuaca hujan deras atau hujan salju berkabut."
   ]
  },
  {
   "cell_type": "markdown",
   "metadata": {
    "id": "zsyZjqak8DC2"
   },
   "source": [
    "## Visualization & Explanatory Analysis"
   ]
  },
  {
   "cell_type": "markdown",
   "metadata": {
    "id": "HZxOiQ6n8DC2"
   },
   "source": [
    "### Pertanyaan 1:\n",
    "Bagaimana rata-rata jumlah perental sepeda *casual*, *registered*, dan total pada hari kerja dan bukan hari kerja?"
   ]
  },
  {
   "cell_type": "code",
   "execution_count": 27,
   "metadata": {
    "colab": {
     "base_uri": "https://localhost:8080/",
     "height": 112
    },
    "id": "1swJUdAD8DC2",
    "outputId": "d748f89e-18f6-4d23-aaef-a182d67938f4"
   },
   "outputs": [
    {
     "data": {
      "text/html": [
       "<div>\n",
       "<style scoped>\n",
       "    .dataframe tbody tr th:only-of-type {\n",
       "        vertical-align: middle;\n",
       "    }\n",
       "\n",
       "    .dataframe tbody tr th {\n",
       "        vertical-align: top;\n",
       "    }\n",
       "\n",
       "    .dataframe thead th {\n",
       "        text-align: right;\n",
       "    }\n",
       "</style>\n",
       "<table border=\"1\" class=\"dataframe\">\n",
       "  <thead>\n",
       "    <tr style=\"text-align: right;\">\n",
       "      <th></th>\n",
       "      <th>workingday</th>\n",
       "      <th>casual</th>\n",
       "      <th>registered</th>\n",
       "      <th>cnt</th>\n",
       "    </tr>\n",
       "  </thead>\n",
       "  <tbody>\n",
       "    <tr>\n",
       "      <th>0</th>\n",
       "      <td>0</td>\n",
       "      <td>1371.134199</td>\n",
       "      <td>2959.034632</td>\n",
       "      <td>4330.168831</td>\n",
       "    </tr>\n",
       "    <tr>\n",
       "      <th>1</th>\n",
       "      <td>1</td>\n",
       "      <td>606.570000</td>\n",
       "      <td>3978.250000</td>\n",
       "      <td>4584.820000</td>\n",
       "    </tr>\n",
       "  </tbody>\n",
       "</table>\n",
       "</div>"
      ],
      "text/plain": [
       "   workingday       casual   registered          cnt\n",
       "0           0  1371.134199  2959.034632  4330.168831\n",
       "1           1   606.570000  3978.250000  4584.820000"
      ]
     },
     "execution_count": 27,
     "metadata": {},
     "output_type": "execute_result"
    }
   ],
   "source": [
    "dd = df_day.groupby(by = 'workingday').agg({\n",
    "    'casual': 'mean',\n",
    "    'registered': 'mean',\n",
    "    'cnt': 'mean',\n",
    "}).reset_index(drop = False)\n",
    "dd"
   ]
  },
  {
   "cell_type": "code",
   "execution_count": 28,
   "metadata": {
    "colab": {
     "base_uri": "https://localhost:8080/",
     "height": 238
    },
    "id": "ef6LqB3nQLVj",
    "outputId": "c7462a6b-f65b-4562-9d75-070f7e26eae9"
   },
   "outputs": [
    {
     "data": {
      "text/html": [
       "<div>\n",
       "<style scoped>\n",
       "    .dataframe tbody tr th:only-of-type {\n",
       "        vertical-align: middle;\n",
       "    }\n",
       "\n",
       "    .dataframe tbody tr th {\n",
       "        vertical-align: top;\n",
       "    }\n",
       "\n",
       "    .dataframe thead th {\n",
       "        text-align: right;\n",
       "    }\n",
       "</style>\n",
       "<table border=\"1\" class=\"dataframe\">\n",
       "  <thead>\n",
       "    <tr style=\"text-align: right;\">\n",
       "      <th></th>\n",
       "      <th>workingday</th>\n",
       "      <th>Type</th>\n",
       "      <th>Count</th>\n",
       "    </tr>\n",
       "  </thead>\n",
       "  <tbody>\n",
       "    <tr>\n",
       "      <th>0</th>\n",
       "      <td>Non-working day</td>\n",
       "      <td>casual</td>\n",
       "      <td>1371.134199</td>\n",
       "    </tr>\n",
       "    <tr>\n",
       "      <th>1</th>\n",
       "      <td>Working day</td>\n",
       "      <td>casual</td>\n",
       "      <td>606.570000</td>\n",
       "    </tr>\n",
       "    <tr>\n",
       "      <th>2</th>\n",
       "      <td>Non-working day</td>\n",
       "      <td>registered</td>\n",
       "      <td>2959.034632</td>\n",
       "    </tr>\n",
       "    <tr>\n",
       "      <th>3</th>\n",
       "      <td>Working day</td>\n",
       "      <td>registered</td>\n",
       "      <td>3978.250000</td>\n",
       "    </tr>\n",
       "    <tr>\n",
       "      <th>4</th>\n",
       "      <td>Non-working day</td>\n",
       "      <td>cnt</td>\n",
       "      <td>4330.168831</td>\n",
       "    </tr>\n",
       "    <tr>\n",
       "      <th>5</th>\n",
       "      <td>Working day</td>\n",
       "      <td>cnt</td>\n",
       "      <td>4584.820000</td>\n",
       "    </tr>\n",
       "  </tbody>\n",
       "</table>\n",
       "</div>"
      ],
      "text/plain": [
       "        workingday        Type        Count\n",
       "0  Non-working day      casual  1371.134199\n",
       "1      Working day      casual   606.570000\n",
       "2  Non-working day  registered  2959.034632\n",
       "3      Working day  registered  3978.250000\n",
       "4  Non-working day         cnt  4330.168831\n",
       "5      Working day         cnt  4584.820000"
      ]
     },
     "execution_count": 28,
     "metadata": {},
     "output_type": "execute_result"
    }
   ],
   "source": [
    "dd = dd.melt('workingday', var_name = 'Type', value_name = 'Count')\n",
    "dd['workingday'] = dd['workingday'].replace([0, 1], ['Non-working day', 'Working day'])\n",
    "dd"
   ]
  },
  {
   "cell_type": "code",
   "execution_count": 29,
   "metadata": {
    "colab": {
     "base_uri": "https://localhost:8080/",
     "height": 449
    },
    "id": "KzQSSQ6jKN7V",
    "outputId": "2353ce66-4ae1-4e57-db49-eabbff025dfa"
   },
   "outputs": [
    {
     "data": {
      "image/png": "[encoded data removed]",
      "text/plain": [
       "<Figure size 640x480 with 1 Axes>"
      ]
     },
     "metadata": {},
     "output_type": "display_data"
    }
   ],
   "source": [
    "sns.barplot(data = dd, x = 'Type', y = 'Count', hue = 'workingday', errorbar = None)\n",
    "plt.show()"
   ]
  },
  {
   "cell_type": "markdown",
   "metadata": {
    "id": "n4hPgjD6RQHm"
   },
   "source": [
    "**Interpretasi:**<br>\n",
    "- Rata-rata perental terdaftar lebih banyak merental sepeda pada hari kerja, sedangkan rata-rata perental biasa lebih banyak merental sepeda pada akhir pekan dan hari libur.\n",
    "- Rata-rata seluruh perental lebih banyak merental sepeda pada hari kerja."
   ]
  },
  {
   "cell_type": "markdown",
   "metadata": {
    "id": "DgHI7CiU8DC2"
   },
   "source": [
    "### Pertanyaan 2:\n",
    "\n",
    "Untuk tiap musim, pada jam berapakah umumnya sepeda paling banyak dirental?"
   ]
  },
  {
   "cell_type": "code",
   "execution_count": 30,
   "metadata": {
    "colab": {
     "base_uri": "https://localhost:8080/",
     "height": 424
    },
    "id": "Go0lCsvO8DC2",
    "outputId": "63dd766a-57ca-429d-91ef-a819e4be3b4d"
   },
   "outputs": [
    {
     "data": {
      "text/html": [
       "<div>\n",
       "<style scoped>\n",
       "    .dataframe tbody tr th:only-of-type {\n",
       "        vertical-align: middle;\n",
       "    }\n",
       "\n",
       "    .dataframe tbody tr th {\n",
       "        vertical-align: top;\n",
       "    }\n",
       "\n",
       "    .dataframe thead th {\n",
       "        text-align: right;\n",
       "    }\n",
       "</style>\n",
       "<table border=\"1\" class=\"dataframe\">\n",
       "  <thead>\n",
       "    <tr style=\"text-align: right;\">\n",
       "      <th></th>\n",
       "      <th>season</th>\n",
       "      <th>hr</th>\n",
       "      <th>cnt</th>\n",
       "    </tr>\n",
       "  </thead>\n",
       "  <tbody>\n",
       "    <tr>\n",
       "      <th>0</th>\n",
       "      <td>1</td>\n",
       "      <td>0</td>\n",
       "      <td>27.404494</td>\n",
       "    </tr>\n",
       "    <tr>\n",
       "      <th>1</th>\n",
       "      <td>1</td>\n",
       "      <td>1</td>\n",
       "      <td>18.140449</td>\n",
       "    </tr>\n",
       "    <tr>\n",
       "      <th>2</th>\n",
       "      <td>1</td>\n",
       "      <td>2</td>\n",
       "      <td>12.794118</td>\n",
       "    </tr>\n",
       "    <tr>\n",
       "      <th>3</th>\n",
       "      <td>1</td>\n",
       "      <td>3</td>\n",
       "      <td>7.102564</td>\n",
       "    </tr>\n",
       "    <tr>\n",
       "      <th>4</th>\n",
       "      <td>1</td>\n",
       "      <td>4</td>\n",
       "      <td>3.181818</td>\n",
       "    </tr>\n",
       "    <tr>\n",
       "      <th>...</th>\n",
       "      <td>...</td>\n",
       "      <td>...</td>\n",
       "      <td>...</td>\n",
       "    </tr>\n",
       "    <tr>\n",
       "      <th>91</th>\n",
       "      <td>4</td>\n",
       "      <td>19</td>\n",
       "      <td>297.033898</td>\n",
       "    </tr>\n",
       "    <tr>\n",
       "      <th>92</th>\n",
       "      <td>4</td>\n",
       "      <td>20</td>\n",
       "      <td>212.141243</td>\n",
       "    </tr>\n",
       "    <tr>\n",
       "      <th>93</th>\n",
       "      <td>4</td>\n",
       "      <td>21</td>\n",
       "      <td>161.327684</td>\n",
       "    </tr>\n",
       "    <tr>\n",
       "      <th>94</th>\n",
       "      <td>4</td>\n",
       "      <td>22</td>\n",
       "      <td>123.564972</td>\n",
       "    </tr>\n",
       "    <tr>\n",
       "      <th>95</th>\n",
       "      <td>4</td>\n",
       "      <td>23</td>\n",
       "      <td>86.440678</td>\n",
       "    </tr>\n",
       "  </tbody>\n",
       "</table>\n",
       "<p>96 rows × 3 columns</p>\n",
       "</div>"
      ],
      "text/plain": [
       "    season  hr         cnt\n",
       "0        1   0   27.404494\n",
       "1        1   1   18.140449\n",
       "2        1   2   12.794118\n",
       "3        1   3    7.102564\n",
       "4        1   4    3.181818\n",
       "..     ...  ..         ...\n",
       "91       4  19  297.033898\n",
       "92       4  20  212.141243\n",
       "93       4  21  161.327684\n",
       "94       4  22  123.564972\n",
       "95       4  23   86.440678\n",
       "\n",
       "[96 rows x 3 columns]"
      ]
     },
     "execution_count": 30,
     "metadata": {},
     "output_type": "execute_result"
    }
   ],
   "source": [
    "dh = df_hour.groupby(by = ['season', 'hr']).agg({\n",
    "    'cnt': 'mean'\n",
    "}).reset_index(drop = False)\n",
    "dh"
   ]
  },
  {
   "cell_type": "code",
   "execution_count": 31,
   "metadata": {
    "colab": {
     "base_uri": "https://localhost:8080/",
     "height": 610
    },
    "id": "a42FW-kcNUwf",
    "outputId": "cd2fefea-f294-4e04-9278-baa4a5fb25f5"
   },
   "outputs": [
    {
     "data": {
      "image/png": "[encoded data removed]",
      "text/plain": [
       "<Figure size 1200x600 with 4 Axes>"
      ]
     },
     "metadata": {},
     "output_type": "display_data"
    }
   ],
   "source": [
    "fig, axs = plt.subplots(nrows = 2, ncols = 2, figsize = (12, 6))\n",
    "\n",
    "axs[0, 0].plot(\n",
    "    dh[dh['season'] == 1]['hr'],\n",
    "    dh[dh['season'] == 1]['cnt'],\n",
    "    marker = 'o',\n",
    "    linewidth = 2,\n",
    "    color = \"#FF598F\")\n",
    "axs[0, 0].set_ylabel(None)\n",
    "axs[0, 0].set_xlabel(None)\n",
    "axs[0, 0].set_title(\"Spring\", loc = \"center\", fontsize = 15)\n",
    "\n",
    "axs[0, 1].plot(\n",
    "    dh[dh['season'] == 2]['hr'],\n",
    "    dh[dh['season'] == 2]['cnt'],\n",
    "    marker = 'o',\n",
    "    linewidth = 2,\n",
    "    color = \"#F3BC2E\")\n",
    "axs[0, 1].set_ylabel(None)\n",
    "axs[0, 1].set_xlabel(None)\n",
    "axs[0, 1].set_title(\"Summer\", loc = \"center\", fontsize = 15)\n",
    "\n",
    "axs[1, 0].plot(\n",
    "    dh[dh['season'] == 3]['hr'],\n",
    "    dh[dh['season'] == 3]['cnt'],\n",
    "    marker = 'o',\n",
    "    linewidth = 2,\n",
    "    color = \"#D45B12\")\n",
    "axs[1, 0].set_ylabel(None)\n",
    "axs[1, 0].set_xlabel(None)\n",
    "axs[1, 0].set_title(\"Autumn\", loc = \"center\", fontsize = 15)\n",
    "\n",
    "axs[1, 1].plot(\n",
    "    dh[dh['season'] == 4]['hr'],\n",
    "    dh[dh['season'] == 4]['cnt'],\n",
    "    marker = 'o',\n",
    "    linewidth = 2,\n",
    "    color = \"#42687C\")\n",
    "axs[1, 1].set_ylabel(None)\n",
    "axs[1, 1].set_xlabel(None)\n",
    "axs[1, 1].set_title(\"Winter\", loc = \"center\", fontsize = 15)\n",
    "\n",
    "plt.suptitle(\"Mean Bike Sharers per Hour by Season\", fontsize = 20)\n",
    "\n",
    "plt.tight_layout()\n",
    "plt.show()"
   ]
  },
  {
   "cell_type": "markdown",
   "metadata": {
    "id": "Yr1RaFGfXJiw"
   },
   "source": [
    "**Interpretasi:**<br>\n",
    "Untuk keempat musim, secara rata-rata, sepeda paling banyak dirental pada pukul 17.00, diikuti pukul 18.00 dan 08.00."
   ]
  },
  {
   "cell_type": "markdown",
   "metadata": {
    "id": "_WeHlCeX8DC2"
   },
   "source": [
    "## Conclusion"
   ]
  },
  {
   "cell_type": "markdown",
   "metadata": {
    "id": "rMKMzthRXa6S"
   },
   "source": [
    "- Rata-rata perental terdaftar lebih banyak merental sepeda pada hari kerja, sedangkan rata-rata perental biasa lebih banyak merental sepeda pada akhir pekan dan hari libur.\n",
    "- Rata-rata seluruh perental lebih banyak merental sepeda pada hari kerja.\n",
    "- Untuk keempat musim, secara rata-rata, sepeda paling banyak dirental pada pukul 17.00, diikuti pukul 18.00 dan 08.00."
   ]
  },
  {
   "cell_type": "markdown",
   "metadata": {
    "id": "ZZAEjGogYgpK"
   },
   "source": [
    "## **Analisis lanjutan**: Regresi linear\n",
    "\n",
    "Akan dilakukan pemodelan regresi linear untuk mengetahui pengaruh `season`, `workingday`, `weathersit`, `temp`, `hum`, dan `windspeed` terhadap `cnt` secara **harian**."
   ]
  },
  {
   "cell_type": "code",
   "execution_count": 32,
   "metadata": {
    "id": "H8CRNiWkad3b"
   },
   "outputs": [],
   "source": [
    "#Importing libraries\n",
    "from scipy import stats\n",
    "from statsmodels.formula.api import ols"
   ]
  },
  {
   "cell_type": "code",
   "execution_count": 33,
   "metadata": {
    "colab": {
     "base_uri": "https://localhost:8080/",
     "height": 206
    },
    "id": "LaOVkxvAZI1q",
    "outputId": "3ba3dd3f-1527-4a50-8529-c3a547a1b690"
   },
   "outputs": [
    {
     "data": {
      "text/html": [
       "<div>\n",
       "<style scoped>\n",
       "    .dataframe tbody tr th:only-of-type {\n",
       "        vertical-align: middle;\n",
       "    }\n",
       "\n",
       "    .dataframe tbody tr th {\n",
       "        vertical-align: top;\n",
       "    }\n",
       "\n",
       "    .dataframe thead th {\n",
       "        text-align: right;\n",
       "    }\n",
       "</style>\n",
       "<table border=\"1\" class=\"dataframe\">\n",
       "  <thead>\n",
       "    <tr style=\"text-align: right;\">\n",
       "      <th></th>\n",
       "      <th>season</th>\n",
       "      <th>workingday</th>\n",
       "      <th>weathersit</th>\n",
       "      <th>temp</th>\n",
       "      <th>hum</th>\n",
       "      <th>windspeed</th>\n",
       "      <th>cnt</th>\n",
       "    </tr>\n",
       "  </thead>\n",
       "  <tbody>\n",
       "    <tr>\n",
       "      <th>0</th>\n",
       "      <td>1</td>\n",
       "      <td>0</td>\n",
       "      <td>2</td>\n",
       "      <td>0.344167</td>\n",
       "      <td>0.805833</td>\n",
       "      <td>0.160446</td>\n",
       "      <td>985</td>\n",
       "    </tr>\n",
       "    <tr>\n",
       "      <th>1</th>\n",
       "      <td>1</td>\n",
       "      <td>0</td>\n",
       "      <td>2</td>\n",
       "      <td>0.363478</td>\n",
       "      <td>0.696087</td>\n",
       "      <td>0.248539</td>\n",
       "      <td>801</td>\n",
       "    </tr>\n",
       "    <tr>\n",
       "      <th>2</th>\n",
       "      <td>1</td>\n",
       "      <td>1</td>\n",
       "      <td>1</td>\n",
       "      <td>0.196364</td>\n",
       "      <td>0.437273</td>\n",
       "      <td>0.248309</td>\n",
       "      <td>1349</td>\n",
       "    </tr>\n",
       "    <tr>\n",
       "      <th>3</th>\n",
       "      <td>1</td>\n",
       "      <td>1</td>\n",
       "      <td>1</td>\n",
       "      <td>0.200000</td>\n",
       "      <td>0.590435</td>\n",
       "      <td>0.160296</td>\n",
       "      <td>1562</td>\n",
       "    </tr>\n",
       "    <tr>\n",
       "      <th>4</th>\n",
       "      <td>1</td>\n",
       "      <td>1</td>\n",
       "      <td>1</td>\n",
       "      <td>0.226957</td>\n",
       "      <td>0.436957</td>\n",
       "      <td>0.186900</td>\n",
       "      <td>1600</td>\n",
       "    </tr>\n",
       "  </tbody>\n",
       "</table>\n",
       "</div>"
      ],
      "text/plain": [
       "   season  workingday  weathersit      temp       hum  windspeed   cnt\n",
       "0       1           0           2  0.344167  0.805833   0.160446   985\n",
       "1       1           0           2  0.363478  0.696087   0.248539   801\n",
       "2       1           1           1  0.196364  0.437273   0.248309  1349\n",
       "3       1           1           1  0.200000  0.590435   0.160296  1562\n",
       "4       1           1           1  0.226957  0.436957   0.186900  1600"
      ]
     },
     "execution_count": 33,
     "metadata": {},
     "output_type": "execute_result"
    }
   ],
   "source": [
    "#Gathering data\n",
    "df_reg = df_day.drop(['casual', 'registered'], axis = 1)\n",
    "df_reg.head()"
   ]
  },
  {
   "cell_type": "markdown",
   "metadata": {
    "id": "5r4hDMhSYrBW"
   },
   "source": [
    "### Uji-uji asumsi"
   ]
  },
  {
   "cell_type": "markdown",
   "metadata": {
    "id": "V6-KQY0hYtp6"
   },
   "source": [
    "#### Uji normalitas variabel dependen\n",
    "\n",
    "Pengujian normalitas variabel `cnt` dilakukan secara eksploratif menggunakan *distribution plot* dan secara inferensial menggunakan uji Kolmogorov-Smirnov."
   ]
  },
  {
   "cell_type": "code",
   "execution_count": 34,
   "metadata": {
    "colab": {
     "base_uri": "https://localhost:8080/",
     "height": 657
    },
    "id": "Z_fWXub1b7fj",
    "outputId": "384a0550-bce0-4c1b-dcc1-4a381cdde7a4"
   },
   "outputs": [
    {
     "name": "stderr",
     "output_type": "stream",
     "text": [
      "C:\\Users\\Bryan Florentino Leo\\AppData\\Local\\Temp\\ipykernel_28004\\3408813670.py:2: UserWarning: \n",
      "\n",
      "`distplot` is a deprecated function and will be removed in seaborn v0.14.0.\n",
      "\n",
      "Please adapt your code to use either `displot` (a figure-level function with\n",
      "similar flexibility) or `histplot` (an axes-level function for histograms).\n",
      "\n",
      "For a guide to updating your code to use the new functions, please see\n",
      "https://gist.github.com/mwaskom/de44147ed2974457ad6372750bbe5751\n",
      "\n",
      "  sns.distplot(df_reg['cnt'])\n"
     ]
    },
    {
     "data": {
      "text/plain": [
       "<Axes: xlabel='cnt', ylabel='Density'>"
      ]
     },
     "execution_count": 34,
     "metadata": {},
     "output_type": "execute_result"
    },
    {
     "data": {
      "image/png": "[encoded data removed]",
      "text/plain": [
       "<Figure size 640x480 with 1 Axes>"
      ]
     },
     "metadata": {},
     "output_type": "display_data"
    }
   ],
   "source": [
    "#Distribution plot\n",
    "sns.distplot(df_reg['cnt'])"
   ]
  },
  {
   "cell_type": "markdown",
   "metadata": {
    "id": "X_UNV_pTclTu"
   },
   "source": [
    "**Interpretasi:**<br>\n",
    "Secara deskriptif, distribusi data atribut `cnt` menyerupai lonceng, tetapi terdapat dua titik stasioner pada kiri dan kanan puncak, sehingga tidak berdistribusi normal."
   ]
  },
  {
   "cell_type": "code",
   "execution_count": 35,
   "metadata": {
    "colab": {
     "base_uri": "https://localhost:8080/"
    },
    "id": "JVOOYEFaYg_p",
    "outputId": "0db75d87-8c3b-4e76-cbe5-0dc152ad5968"
   },
   "outputs": [
    {
     "data": {
      "text/plain": [
       "KstestResult(statistic=1.0, pvalue=0.0, statistic_location=22, statistic_sign=-1)"
      ]
     },
     "execution_count": 35,
     "metadata": {},
     "output_type": "execute_result"
    }
   ],
   "source": [
    "#Uji Kolmogorov-Smirnov\n",
    "stats.kstest(df_reg['cnt'], stats.norm.cdf)"
   ]
  },
  {
   "cell_type": "markdown",
   "metadata": {
    "id": "MODNY0f0c07f"
   },
   "source": [
    "**Interpretasi:**<br>\n",
    "Berdasarkan uji Kolmogorov-Smirnov, diperoleh `p-value` senilai 0.0. Untuk tingkat signifikansi 5%, disimpulkan bahwa data atribut `cnt` tidak berdistribusi normal."
   ]
  },
  {
   "cell_type": "markdown",
   "metadata": {
    "id": "fp0wz6kcdjd1"
   },
   "source": [
    "#### Uji linearitas antara variabel dependen dengan tiap variabel independen kontinu (*float*)"
   ]
  },
  {
   "cell_type": "code",
   "execution_count": 36,
   "metadata": {
    "colab": {
     "base_uri": "https://localhost:8080/",
     "height": 1000
    },
    "id": "gjx13BSfd5p0",
    "outputId": "898301e6-5d7d-4d8f-ac7d-fdfc2f19b5ec"
   },
   "outputs": [
    {
     "name": "stderr",
     "output_type": "stream",
     "text": [
      "C:\\Users\\Bryan Florentino Leo\\anaconda3\\Lib\\site-packages\\seaborn\\axisgrid.py:118: UserWarning: The figure layout has changed to tight\n",
      "  self._figure.tight_layout(*args, **kwargs)\n"
     ]
    },
    {
     "data": {
      "text/plain": [
       "<seaborn.axisgrid.PairGrid at 0x2dc00a36f50>"
      ]
     },
     "execution_count": 36,
     "metadata": {},
     "output_type": "execute_result"
    },
    {
     "data": {
      "image/png": "[encoded data removed]",
      "text/plain": [
       "<Figure size 1000x1000 with 20 Axes>"
      ]
     },
     "metadata": {},
     "output_type": "display_data"
    }
   ],
   "source": [
    "#Pairplot\n",
    "sns.pairplot(df_reg[['cnt', 'temp', 'hum', 'windspeed']], kind = 'reg', plot_kws={'line_kws':{'color':'red'}})"
   ]
  },
  {
   "cell_type": "markdown",
   "metadata": {
    "id": "zj-aTD3pd5xZ"
   },
   "source": [
    "**Interpretasi:**<br>\n",
    "Terdapat hubungan linear antara variabel `cnt` dengan tiap variabel independen kontinu, sehingga asumsi linearitas **terpenuhi**."
   ]
  },
  {
   "cell_type": "markdown",
   "metadata": {
    "id": "PFHjmAk8eYgE"
   },
   "source": [
    "**Kesimpulan:**\n",
    "Dengan mengasumsikan asumsi normalitas terpenuhi, analisis regresi linear dapat dilakukan."
   ]
  },
  {
   "cell_type": "markdown",
   "metadata": {
    "id": "i5rlwE2Zeeqj"
   },
   "source": [
    "### Analisis regresi linear\n",
    "\n",
    "Akan dibentuk model-model regresi linear dengan metode *enter*, yaitu dengan memasukkan semua variabel independen pada model mula-mula, lalu mengeluarkan satu per satu jika terdapat variabel-variabel independen yang koefisiennya tidak signifikan (ditandai dengan `P > |t|` melebihi 0.05), dimulai dari yang paling tidak signifikan.<br><br>\n",
    "\n",
    "Catatan:\n",
    "- Untuk variabel independen kategorik, akan dibentuk *dummy variables* sejumlah satu kurang dari banyaknya kategori. *Dummy variable* untuk suatu kategori bernilai 1 jika baris data masuk dalam kategori tersebut dan 0 untuk kategori lainnya.\n",
    "- Jika salah satu atau lebih *dummy variable* tidak signifikan, variabel kategorik asalnya akan dikeluarkan dari model."
   ]
  },
  {
   "cell_type": "code",
   "execution_count": 37,
   "metadata": {
    "colab": {
     "base_uri": "https://localhost:8080/",
     "height": 622
    },
    "id": "7u98ftrSeeLL",
    "outputId": "40753751-40a9-451a-9565-aa33c9f64c6b"
   },
   "outputs": [
    {
     "data": {
      "text/html": [
       "<table class=\"simpletable\">\n",
       "<caption>OLS Regression Results</caption>\n",
       "<tr>\n",
       "  <th>Dep. Variable:</th>           <td>cnt</td>       <th>  R-squared:         </th> <td>   0.558</td> \n",
       "</tr>\n",
       "<tr>\n",
       "  <th>Model:</th>                   <td>OLS</td>       <th>  Adj. R-squared:    </th> <td>   0.552</td> \n",
       "</tr>\n",
       "<tr>\n",
       "  <th>Method:</th>             <td>Least Squares</td>  <th>  F-statistic:       </th> <td>   101.0</td> \n",
       "</tr>\n",
       "<tr>\n",
       "  <th>Date:</th>             <td>Tue, 05 Mar 2024</td> <th>  Prob (F-statistic):</th> <td>1.91e-121</td>\n",
       "</tr>\n",
       "<tr>\n",
       "  <th>Time:</th>                 <td>16:36:38</td>     <th>  Log-Likelihood:    </th> <td> -6271.5</td> \n",
       "</tr>\n",
       "<tr>\n",
       "  <th>No. Observations:</th>      <td>   731</td>      <th>  AIC:               </th> <td>1.256e+04</td>\n",
       "</tr>\n",
       "<tr>\n",
       "  <th>Df Residuals:</th>          <td>   721</td>      <th>  BIC:               </th> <td>1.261e+04</td>\n",
       "</tr>\n",
       "<tr>\n",
       "  <th>Df Model:</th>              <td>     9</td>      <th>                     </th>     <td> </td>    \n",
       "</tr>\n",
       "<tr>\n",
       "  <th>Covariance Type:</th>      <td>nonrobust</td>    <th>                     </th>     <td> </td>    \n",
       "</tr>\n",
       "</table>\n",
       "<table class=\"simpletable\">\n",
       "<tr>\n",
       "           <td></td>             <th>coef</th>     <th>std err</th>      <th>t</th>      <th>P>|t|</th>  <th>[0.025</th>    <th>0.975]</th>  \n",
       "</tr>\n",
       "<tr>\n",
       "  <th>Intercept</th>          <td> 3024.4334</td> <td>  349.273</td> <td>    8.659</td> <td> 0.000</td> <td> 2338.720</td> <td> 3710.147</td>\n",
       "</tr>\n",
       "<tr>\n",
       "  <th>C(season)[T.2]</th>     <td>  932.3164</td> <td>  178.597</td> <td>    5.220</td> <td> 0.000</td> <td>  581.684</td> <td> 1282.949</td>\n",
       "</tr>\n",
       "<tr>\n",
       "  <th>C(season)[T.3]</th>     <td>  483.1702</td> <td>  235.591</td> <td>    2.051</td> <td> 0.041</td> <td>   20.645</td> <td>  945.696</td>\n",
       "</tr>\n",
       "<tr>\n",
       "  <th>C(season)[T.4]</th>     <td> 1499.6312</td> <td>  152.393</td> <td>    9.841</td> <td> 0.000</td> <td> 1200.443</td> <td> 1798.819</td>\n",
       "</tr>\n",
       "<tr>\n",
       "  <th>C(workingday)[T.1]</th> <td>  155.0373</td> <td>  103.654</td> <td>    1.496</td> <td> 0.135</td> <td>  -48.463</td> <td>  358.538</td>\n",
       "</tr>\n",
       "<tr>\n",
       "  <th>C(weathersit)[T.2]</th> <td> -232.3006</td> <td>  127.749</td> <td>   -1.818</td> <td> 0.069</td> <td> -483.105</td> <td>   18.504</td>\n",
       "</tr>\n",
       "<tr>\n",
       "  <th>C(weathersit)[T.3]</th> <td>-1929.6958</td> <td>  326.781</td> <td>   -5.905</td> <td> 0.000</td> <td>-2571.252</td> <td>-1288.140</td>\n",
       "</tr>\n",
       "<tr>\n",
       "  <th>temp</th>               <td> 6159.1228</td> <td>  481.123</td> <td>   12.802</td> <td> 0.000</td> <td> 5214.554</td> <td> 7103.692</td>\n",
       "</tr>\n",
       "<tr>\n",
       "  <th>hum</th>                <td>-2608.2282</td> <td>  461.107</td> <td>   -5.656</td> <td> 0.000</td> <td>-3513.500</td> <td>-1702.956</td>\n",
       "</tr>\n",
       "<tr>\n",
       "  <th>windspeed</th>          <td>-3305.9852</td> <td>  674.495</td> <td>   -4.901</td> <td> 0.000</td> <td>-4630.194</td> <td>-1981.776</td>\n",
       "</tr>\n",
       "</table>\n",
       "<table class=\"simpletable\">\n",
       "<tr>\n",
       "  <th>Omnibus:</th>       <td>16.306</td> <th>  Durbin-Watson:     </th> <td>   0.437</td>\n",
       "</tr>\n",
       "<tr>\n",
       "  <th>Prob(Omnibus):</th> <td> 0.000</td> <th>  Jarque-Bera (JB):  </th> <td>  10.277</td>\n",
       "</tr>\n",
       "<tr>\n",
       "  <th>Skew:</th>          <td> 0.137</td> <th>  Prob(JB):          </th> <td> 0.00587</td>\n",
       "</tr>\n",
       "<tr>\n",
       "  <th>Kurtosis:</th>      <td> 2.488</td> <th>  Cond. No.          </th> <td>    25.1</td>\n",
       "</tr>\n",
       "</table><br/><br/>Notes:<br/>[1] Standard Errors assume that the covariance matrix of the errors is correctly specified."
      ],
      "text/latex": [
       "\\begin{center}\n",
       "\\begin{tabular}{lclc}\n",
       "\\toprule\n",
       "\\textbf{Dep. Variable:}     &       cnt        & \\textbf{  R-squared:         } &     0.558   \\\\\n",
       "\\textbf{Model:}             &       OLS        & \\textbf{  Adj. R-squared:    } &     0.552   \\\\\n",
       "\\textbf{Method:}            &  Least Squares   & \\textbf{  F-statistic:       } &     101.0   \\\\\n",
       "\\textbf{Date:}              & Tue, 05 Mar 2024 & \\textbf{  Prob (F-statistic):} & 1.91e-121   \\\\\n",
       "\\textbf{Time:}              &     16:36:38     & \\textbf{  Log-Likelihood:    } &   -6271.5   \\\\\n",
       "\\textbf{No. Observations:}  &         731      & \\textbf{  AIC:               } & 1.256e+04   \\\\\n",
       "\\textbf{Df Residuals:}      &         721      & \\textbf{  BIC:               } & 1.261e+04   \\\\\n",
       "\\textbf{Df Model:}          &           9      & \\textbf{                     } &             \\\\\n",
       "\\textbf{Covariance Type:}   &    nonrobust     & \\textbf{                     } &             \\\\\n",
       "\\bottomrule\n",
       "\\end{tabular}\n",
       "\\begin{tabular}{lcccccc}\n",
       "                            & \\textbf{coef} & \\textbf{std err} & \\textbf{t} & \\textbf{P$> |$t$|$} & \\textbf{[0.025} & \\textbf{0.975]}  \\\\\n",
       "\\midrule\n",
       "\\textbf{Intercept}          &    3024.4334  &      349.273     &     8.659  &         0.000        &     2338.720    &     3710.147     \\\\\n",
       "\\textbf{C(season)[T.2]}     &     932.3164  &      178.597     &     5.220  &         0.000        &      581.684    &     1282.949     \\\\\n",
       "\\textbf{C(season)[T.3]}     &     483.1702  &      235.591     &     2.051  &         0.041        &       20.645    &      945.696     \\\\\n",
       "\\textbf{C(season)[T.4]}     &    1499.6312  &      152.393     &     9.841  &         0.000        &     1200.443    &     1798.819     \\\\\n",
       "\\textbf{C(workingday)[T.1]} &     155.0373  &      103.654     &     1.496  &         0.135        &      -48.463    &      358.538     \\\\\n",
       "\\textbf{C(weathersit)[T.2]} &    -232.3006  &      127.749     &    -1.818  &         0.069        &     -483.105    &       18.504     \\\\\n",
       "\\textbf{C(weathersit)[T.3]} &   -1929.6958  &      326.781     &    -5.905  &         0.000        &    -2571.252    &    -1288.140     \\\\\n",
       "\\textbf{temp}               &    6159.1228  &      481.123     &    12.802  &         0.000        &     5214.554    &     7103.692     \\\\\n",
       "\\textbf{hum}                &   -2608.2282  &      461.107     &    -5.656  &         0.000        &    -3513.500    &    -1702.956     \\\\\n",
       "\\textbf{windspeed}          &   -3305.9852  &      674.495     &    -4.901  &         0.000        &    -4630.194    &    -1981.776     \\\\\n",
       "\\bottomrule\n",
       "\\end{tabular}\n",
       "\\begin{tabular}{lclc}\n",
       "\\textbf{Omnibus:}       & 16.306 & \\textbf{  Durbin-Watson:     } &    0.437  \\\\\n",
       "\\textbf{Prob(Omnibus):} &  0.000 & \\textbf{  Jarque-Bera (JB):  } &   10.277  \\\\\n",
       "\\textbf{Skew:}          &  0.137 & \\textbf{  Prob(JB):          } &  0.00587  \\\\\n",
       "\\textbf{Kurtosis:}      &  2.488 & \\textbf{  Cond. No.          } &     25.1  \\\\\n",
       "\\bottomrule\n",
       "\\end{tabular}\n",
       "%\\caption{OLS Regression Results}\n",
       "\\end{center}\n",
       "\n",
       "Notes: \\newline\n",
       " [1] Standard Errors assume that the covariance matrix of the errors is correctly specified."
      ],
      "text/plain": [
       "<class 'statsmodels.iolib.summary.Summary'>\n",
       "\"\"\"\n",
       "                            OLS Regression Results                            \n",
       "==============================================================================\n",
       "Dep. Variable:                    cnt   R-squared:                       0.558\n",
       "Model:                            OLS   Adj. R-squared:                  0.552\n",
       "Method:                 Least Squares   F-statistic:                     101.0\n",
       "Date:                Tue, 05 Mar 2024   Prob (F-statistic):          1.91e-121\n",
       "Time:                        16:36:38   Log-Likelihood:                -6271.5\n",
       "No. Observations:                 731   AIC:                         1.256e+04\n",
       "Df Residuals:                     721   BIC:                         1.261e+04\n",
       "Df Model:                           9                                         \n",
       "Covariance Type:            nonrobust                                         \n",
       "======================================================================================\n",
       "                         coef    std err          t      P>|t|      [0.025      0.975]\n",
       "--------------------------------------------------------------------------------------\n",
       "Intercept           3024.4334    349.273      8.659      0.000    2338.720    3710.147\n",
       "C(season)[T.2]       932.3164    178.597      5.220      0.000     581.684    1282.949\n",
       "C(season)[T.3]       483.1702    235.591      2.051      0.041      20.645     945.696\n",
       "C(season)[T.4]      1499.6312    152.393      9.841      0.000    1200.443    1798.819\n",
       "C(workingday)[T.1]   155.0373    103.654      1.496      0.135     -48.463     358.538\n",
       "C(weathersit)[T.2]  -232.3006    127.749     -1.818      0.069    -483.105      18.504\n",
       "C(weathersit)[T.3] -1929.6958    326.781     -5.905      0.000   -2571.252   -1288.140\n",
       "temp                6159.1228    481.123     12.802      0.000    5214.554    7103.692\n",
       "hum                -2608.2282    461.107     -5.656      0.000   -3513.500   -1702.956\n",
       "windspeed          -3305.9852    674.495     -4.901      0.000   -4630.194   -1981.776\n",
       "==============================================================================\n",
       "Omnibus:                       16.306   Durbin-Watson:                   0.437\n",
       "Prob(Omnibus):                  0.000   Jarque-Bera (JB):               10.277\n",
       "Skew:                           0.137   Prob(JB):                      0.00587\n",
       "Kurtosis:                       2.488   Cond. No.                         25.1\n",
       "==============================================================================\n",
       "\n",
       "Notes:\n",
       "[1] Standard Errors assume that the covariance matrix of the errors is correctly specified.\n",
       "\"\"\""
      ]
     },
     "execution_count": 37,
     "metadata": {},
     "output_type": "execute_result"
    }
   ],
   "source": [
    "#Model 1\n",
    "model1 = ols('cnt ~ C(season) + C(workingday) + C(weathersit) + temp + hum + windspeed', data = df_reg).fit()\n",
    "model1.summary()"
   ]
  },
  {
   "cell_type": "markdown",
   "metadata": {
    "id": "L-kyV4KKgHqG"
   },
   "source": [
    "**Interpretasi:**<br>\n",
    "Pada model 1 (mula-mula), variabel `C(workingday)[T.1]` paling tidak signifikan, sehingga pada pembentukan model berikutnya, variabel `workingday` akan dikeluarkan dari model."
   ]
  },
  {
   "cell_type": "code",
   "execution_count": 38,
   "metadata": {
    "colab": {
     "base_uri": "https://localhost:8080/",
     "height": 601
    },
    "id": "JTKLoPu4gH6X",
    "outputId": "e0b1f61a-6bb3-4996-dfd1-8535ee3608ff"
   },
   "outputs": [
    {
     "data": {
      "text/html": [
       "<table class=\"simpletable\">\n",
       "<caption>OLS Regression Results</caption>\n",
       "<tr>\n",
       "  <th>Dep. Variable:</th>           <td>cnt</td>       <th>  R-squared:         </th> <td>   0.556</td> \n",
       "</tr>\n",
       "<tr>\n",
       "  <th>Model:</th>                   <td>OLS</td>       <th>  Adj. R-squared:    </th> <td>   0.551</td> \n",
       "</tr>\n",
       "<tr>\n",
       "  <th>Method:</th>             <td>Least Squares</td>  <th>  F-statistic:       </th> <td>   113.2</td> \n",
       "</tr>\n",
       "<tr>\n",
       "  <th>Date:</th>             <td>Tue, 05 Mar 2024</td> <th>  Prob (F-statistic):</th> <td>5.27e-122</td>\n",
       "</tr>\n",
       "<tr>\n",
       "  <th>Time:</th>                 <td>16:36:38</td>     <th>  Log-Likelihood:    </th> <td> -6272.6</td> \n",
       "</tr>\n",
       "<tr>\n",
       "  <th>No. Observations:</th>      <td>   731</td>      <th>  AIC:               </th> <td>1.256e+04</td>\n",
       "</tr>\n",
       "<tr>\n",
       "  <th>Df Residuals:</th>          <td>   722</td>      <th>  BIC:               </th> <td>1.260e+04</td>\n",
       "</tr>\n",
       "<tr>\n",
       "  <th>Df Model:</th>              <td>     8</td>      <th>                     </th>     <td> </td>    \n",
       "</tr>\n",
       "<tr>\n",
       "  <th>Covariance Type:</th>      <td>nonrobust</td>    <th>                     </th>     <td> </td>    \n",
       "</tr>\n",
       "</table>\n",
       "<table class=\"simpletable\">\n",
       "<tr>\n",
       "           <td></td>             <th>coef</th>     <th>std err</th>      <th>t</th>      <th>P>|t|</th>  <th>[0.025</th>    <th>0.975]</th>  \n",
       "</tr>\n",
       "<tr>\n",
       "  <th>Intercept</th>          <td> 3128.9358</td> <td>  342.506</td> <td>    9.135</td> <td> 0.000</td> <td> 2456.508</td> <td> 3801.363</td>\n",
       "</tr>\n",
       "<tr>\n",
       "  <th>C(season)[T.2]</th>     <td>  926.9673</td> <td>  178.714</td> <td>    5.187</td> <td> 0.000</td> <td>  576.106</td> <td> 1277.829</td>\n",
       "</tr>\n",
       "<tr>\n",
       "  <th>C(season)[T.3]</th>     <td>  471.3167</td> <td>  235.659</td> <td>    2.000</td> <td> 0.046</td> <td>    8.658</td> <td>  933.975</td>\n",
       "</tr>\n",
       "<tr>\n",
       "  <th>C(season)[T.4]</th>     <td> 1496.7766</td> <td>  152.512</td> <td>    9.814</td> <td> 0.000</td> <td> 1197.357</td> <td> 1796.196</td>\n",
       "</tr>\n",
       "<tr>\n",
       "  <th>C(weathersit)[T.2]</th> <td> -218.7671</td> <td>  127.537</td> <td>   -1.715</td> <td> 0.087</td> <td> -469.155</td> <td>   31.621</td>\n",
       "</tr>\n",
       "<tr>\n",
       "  <th>C(weathersit)[T.3]</th> <td>-1902.8508</td> <td>  326.567</td> <td>   -5.827</td> <td> 0.000</td> <td>-2543.985</td> <td>-1261.716</td>\n",
       "</tr>\n",
       "<tr>\n",
       "  <th>temp</th>               <td> 6205.4051</td> <td>  480.538</td> <td>   12.913</td> <td> 0.000</td> <td> 5261.987</td> <td> 7148.824</td>\n",
       "</tr>\n",
       "<tr>\n",
       "  <th>hum</th>                <td>-2635.1672</td> <td>  461.149</td> <td>   -5.714</td> <td> 0.000</td> <td>-3540.521</td> <td>-1729.814</td>\n",
       "</tr>\n",
       "<tr>\n",
       "  <th>windspeed</th>          <td>-3330.7870</td> <td>  674.869</td> <td>   -4.935</td> <td> 0.000</td> <td>-4655.727</td> <td>-2005.847</td>\n",
       "</tr>\n",
       "</table>\n",
       "<table class=\"simpletable\">\n",
       "<tr>\n",
       "  <th>Omnibus:</th>       <td>19.172</td> <th>  Durbin-Watson:     </th> <td>   0.437</td>\n",
       "</tr>\n",
       "<tr>\n",
       "  <th>Prob(Omnibus):</th> <td> 0.000</td> <th>  Jarque-Bera (JB):  </th> <td>  11.079</td>\n",
       "</tr>\n",
       "<tr>\n",
       "  <th>Skew:</th>          <td> 0.122</td> <th>  Prob(JB):          </th> <td> 0.00393</td>\n",
       "</tr>\n",
       "<tr>\n",
       "  <th>Kurtosis:</th>      <td> 2.449</td> <th>  Cond. No.          </th> <td>    22.4</td>\n",
       "</tr>\n",
       "</table><br/><br/>Notes:<br/>[1] Standard Errors assume that the covariance matrix of the errors is correctly specified."
      ],
      "text/latex": [
       "\\begin{center}\n",
       "\\begin{tabular}{lclc}\n",
       "\\toprule\n",
       "\\textbf{Dep. Variable:}     &       cnt        & \\textbf{  R-squared:         } &     0.556   \\\\\n",
       "\\textbf{Model:}             &       OLS        & \\textbf{  Adj. R-squared:    } &     0.551   \\\\\n",
       "\\textbf{Method:}            &  Least Squares   & \\textbf{  F-statistic:       } &     113.2   \\\\\n",
       "\\textbf{Date:}              & Tue, 05 Mar 2024 & \\textbf{  Prob (F-statistic):} & 5.27e-122   \\\\\n",
       "\\textbf{Time:}              &     16:36:38     & \\textbf{  Log-Likelihood:    } &   -6272.6   \\\\\n",
       "\\textbf{No. Observations:}  &         731      & \\textbf{  AIC:               } & 1.256e+04   \\\\\n",
       "\\textbf{Df Residuals:}      &         722      & \\textbf{  BIC:               } & 1.260e+04   \\\\\n",
       "\\textbf{Df Model:}          &           8      & \\textbf{                     } &             \\\\\n",
       "\\textbf{Covariance Type:}   &    nonrobust     & \\textbf{                     } &             \\\\\n",
       "\\bottomrule\n",
       "\\end{tabular}\n",
       "\\begin{tabular}{lcccccc}\n",
       "                            & \\textbf{coef} & \\textbf{std err} & \\textbf{t} & \\textbf{P$> |$t$|$} & \\textbf{[0.025} & \\textbf{0.975]}  \\\\\n",
       "\\midrule\n",
       "\\textbf{Intercept}          &    3128.9358  &      342.506     &     9.135  &         0.000        &     2456.508    &     3801.363     \\\\\n",
       "\\textbf{C(season)[T.2]}     &     926.9673  &      178.714     &     5.187  &         0.000        &      576.106    &     1277.829     \\\\\n",
       "\\textbf{C(season)[T.3]}     &     471.3167  &      235.659     &     2.000  &         0.046        &        8.658    &      933.975     \\\\\n",
       "\\textbf{C(season)[T.4]}     &    1496.7766  &      152.512     &     9.814  &         0.000        &     1197.357    &     1796.196     \\\\\n",
       "\\textbf{C(weathersit)[T.2]} &    -218.7671  &      127.537     &    -1.715  &         0.087        &     -469.155    &       31.621     \\\\\n",
       "\\textbf{C(weathersit)[T.3]} &   -1902.8508  &      326.567     &    -5.827  &         0.000        &    -2543.985    &    -1261.716     \\\\\n",
       "\\textbf{temp}               &    6205.4051  &      480.538     &    12.913  &         0.000        &     5261.987    &     7148.824     \\\\\n",
       "\\textbf{hum}                &   -2635.1672  &      461.149     &    -5.714  &         0.000        &    -3540.521    &    -1729.814     \\\\\n",
       "\\textbf{windspeed}          &   -3330.7870  &      674.869     &    -4.935  &         0.000        &    -4655.727    &    -2005.847     \\\\\n",
       "\\bottomrule\n",
       "\\end{tabular}\n",
       "\\begin{tabular}{lclc}\n",
       "\\textbf{Omnibus:}       & 19.172 & \\textbf{  Durbin-Watson:     } &    0.437  \\\\\n",
       "\\textbf{Prob(Omnibus):} &  0.000 & \\textbf{  Jarque-Bera (JB):  } &   11.079  \\\\\n",
       "\\textbf{Skew:}          &  0.122 & \\textbf{  Prob(JB):          } &  0.00393  \\\\\n",
       "\\textbf{Kurtosis:}      &  2.449 & \\textbf{  Cond. No.          } &     22.4  \\\\\n",
       "\\bottomrule\n",
       "\\end{tabular}\n",
       "%\\caption{OLS Regression Results}\n",
       "\\end{center}\n",
       "\n",
       "Notes: \\newline\n",
       " [1] Standard Errors assume that the covariance matrix of the errors is correctly specified."
      ],
      "text/plain": [
       "<class 'statsmodels.iolib.summary.Summary'>\n",
       "\"\"\"\n",
       "                            OLS Regression Results                            \n",
       "==============================================================================\n",
       "Dep. Variable:                    cnt   R-squared:                       0.556\n",
       "Model:                            OLS   Adj. R-squared:                  0.551\n",
       "Method:                 Least Squares   F-statistic:                     113.2\n",
       "Date:                Tue, 05 Mar 2024   Prob (F-statistic):          5.27e-122\n",
       "Time:                        16:36:38   Log-Likelihood:                -6272.6\n",
       "No. Observations:                 731   AIC:                         1.256e+04\n",
       "Df Residuals:                     722   BIC:                         1.260e+04\n",
       "Df Model:                           8                                         \n",
       "Covariance Type:            nonrobust                                         \n",
       "======================================================================================\n",
       "                         coef    std err          t      P>|t|      [0.025      0.975]\n",
       "--------------------------------------------------------------------------------------\n",
       "Intercept           3128.9358    342.506      9.135      0.000    2456.508    3801.363\n",
       "C(season)[T.2]       926.9673    178.714      5.187      0.000     576.106    1277.829\n",
       "C(season)[T.3]       471.3167    235.659      2.000      0.046       8.658     933.975\n",
       "C(season)[T.4]      1496.7766    152.512      9.814      0.000    1197.357    1796.196\n",
       "C(weathersit)[T.2]  -218.7671    127.537     -1.715      0.087    -469.155      31.621\n",
       "C(weathersit)[T.3] -1902.8508    326.567     -5.827      0.000   -2543.985   -1261.716\n",
       "temp                6205.4051    480.538     12.913      0.000    5261.987    7148.824\n",
       "hum                -2635.1672    461.149     -5.714      0.000   -3540.521   -1729.814\n",
       "windspeed          -3330.7870    674.869     -4.935      0.000   -4655.727   -2005.847\n",
       "==============================================================================\n",
       "Omnibus:                       19.172   Durbin-Watson:                   0.437\n",
       "Prob(Omnibus):                  0.000   Jarque-Bera (JB):               11.079\n",
       "Skew:                           0.122   Prob(JB):                      0.00393\n",
       "Kurtosis:                       2.449   Cond. No.                         22.4\n",
       "==============================================================================\n",
       "\n",
       "Notes:\n",
       "[1] Standard Errors assume that the covariance matrix of the errors is correctly specified.\n",
       "\"\"\""
      ]
     },
     "execution_count": 38,
     "metadata": {},
     "output_type": "execute_result"
    }
   ],
   "source": [
    "#Model 2\n",
    "model2 = ols('cnt ~ C(season) + C(weathersit) + temp + hum + windspeed', data = df_reg).fit()\n",
    "model2.summary()"
   ]
  },
  {
   "cell_type": "markdown",
   "metadata": {
    "id": "rBoJ-5_fgQPH"
   },
   "source": [
    "**Interpretasi:**<br>\n",
    "Pada model 2, variabel `C(weathersit)[T.2]` paling tidak signifikan, sehingga pada pembentukan model berikutnya, variabel `weathersit` akan dikeluarkan dari model."
   ]
  },
  {
   "cell_type": "code",
   "execution_count": 39,
   "metadata": {
    "colab": {
     "base_uri": "https://localhost:8080/",
     "height": 558
    },
    "id": "QpOL8hV4gQVd",
    "outputId": "4fa4ccc9-4e04-4d4d-cd7b-67cb2d9d16e1"
   },
   "outputs": [
    {
     "data": {
      "text/html": [
       "<table class=\"simpletable\">\n",
       "<caption>OLS Regression Results</caption>\n",
       "<tr>\n",
       "  <th>Dep. Variable:</th>           <td>cnt</td>       <th>  R-squared:         </th> <td>   0.535</td> \n",
       "</tr>\n",
       "<tr>\n",
       "  <th>Model:</th>                   <td>OLS</td>       <th>  Adj. R-squared:    </th> <td>   0.532</td> \n",
       "</tr>\n",
       "<tr>\n",
       "  <th>Method:</th>             <td>Least Squares</td>  <th>  F-statistic:       </th> <td>   139.1</td> \n",
       "</tr>\n",
       "<tr>\n",
       "  <th>Date:</th>             <td>Tue, 05 Mar 2024</td> <th>  Prob (F-statistic):</th> <td>5.68e-117</td>\n",
       "</tr>\n",
       "<tr>\n",
       "  <th>Time:</th>                 <td>16:36:38</td>     <th>  Log-Likelihood:    </th> <td> -6289.5</td> \n",
       "</tr>\n",
       "<tr>\n",
       "  <th>No. Observations:</th>      <td>   731</td>      <th>  AIC:               </th> <td>1.259e+04</td>\n",
       "</tr>\n",
       "<tr>\n",
       "  <th>Df Residuals:</th>          <td>   724</td>      <th>  BIC:               </th> <td>1.263e+04</td>\n",
       "</tr>\n",
       "<tr>\n",
       "  <th>Df Model:</th>              <td>     6</td>      <th>                     </th>     <td> </td>    \n",
       "</tr>\n",
       "<tr>\n",
       "  <th>Covariance Type:</th>      <td>nonrobust</td>    <th>                     </th>     <td> </td>    \n",
       "</tr>\n",
       "</table>\n",
       "<table class=\"simpletable\">\n",
       "<tr>\n",
       "         <td></td>           <th>coef</th>     <th>std err</th>      <th>t</th>      <th>P>|t|</th>  <th>[0.025</th>    <th>0.975]</th>  \n",
       "</tr>\n",
       "<tr>\n",
       "  <th>Intercept</th>      <td> 3734.7260</td> <td>  323.702</td> <td>   11.538</td> <td> 0.000</td> <td> 3099.220</td> <td> 4370.232</td>\n",
       "</tr>\n",
       "<tr>\n",
       "  <th>C(season)[T.2]</th> <td>  886.4621</td> <td>  182.371</td> <td>    4.861</td> <td> 0.000</td> <td>  528.424</td> <td> 1244.500</td>\n",
       "</tr>\n",
       "<tr>\n",
       "  <th>C(season)[T.3]</th> <td>  366.8133</td> <td>  240.107</td> <td>    1.528</td> <td> 0.127</td> <td> -104.575</td> <td>  838.202</td>\n",
       "</tr>\n",
       "<tr>\n",
       "  <th>C(season)[T.4]</th> <td> 1442.8157</td> <td>  155.304</td> <td>    9.290</td> <td> 0.000</td> <td> 1137.916</td> <td> 1747.715</td>\n",
       "</tr>\n",
       "<tr>\n",
       "  <th>temp</th>           <td> 6566.3054</td> <td>  482.788</td> <td>   13.601</td> <td> 0.000</td> <td> 5618.475</td> <td> 7514.136</td>\n",
       "</tr>\n",
       "<tr>\n",
       "  <th>hum</th>            <td>-3736.2692</td> <td>  362.764</td> <td>  -10.299</td> <td> 0.000</td> <td>-4448.464</td> <td>-3024.074</td>\n",
       "</tr>\n",
       "<tr>\n",
       "  <th>windspeed</th>      <td>-4231.4951</td> <td>  669.524</td> <td>   -6.320</td> <td> 0.000</td> <td>-5545.936</td> <td>-2917.054</td>\n",
       "</tr>\n",
       "</table>\n",
       "<table class=\"simpletable\">\n",
       "<tr>\n",
       "  <th>Omnibus:</th>       <td> 5.702</td> <th>  Durbin-Watson:     </th> <td>   0.469</td>\n",
       "</tr>\n",
       "<tr>\n",
       "  <th>Prob(Omnibus):</th> <td> 0.058</td> <th>  Jarque-Bera (JB):  </th> <td>   4.234</td>\n",
       "</tr>\n",
       "<tr>\n",
       "  <th>Skew:</th>          <td> 0.047</td> <th>  Prob(JB):          </th> <td>   0.120</td>\n",
       "</tr>\n",
       "<tr>\n",
       "  <th>Kurtosis:</th>      <td> 2.639</td> <th>  Cond. No.          </th> <td>    20.1</td>\n",
       "</tr>\n",
       "</table><br/><br/>Notes:<br/>[1] Standard Errors assume that the covariance matrix of the errors is correctly specified."
      ],
      "text/latex": [
       "\\begin{center}\n",
       "\\begin{tabular}{lclc}\n",
       "\\toprule\n",
       "\\textbf{Dep. Variable:}    &       cnt        & \\textbf{  R-squared:         } &     0.535   \\\\\n",
       "\\textbf{Model:}            &       OLS        & \\textbf{  Adj. R-squared:    } &     0.532   \\\\\n",
       "\\textbf{Method:}           &  Least Squares   & \\textbf{  F-statistic:       } &     139.1   \\\\\n",
       "\\textbf{Date:}             & Tue, 05 Mar 2024 & \\textbf{  Prob (F-statistic):} & 5.68e-117   \\\\\n",
       "\\textbf{Time:}             &     16:36:38     & \\textbf{  Log-Likelihood:    } &   -6289.5   \\\\\n",
       "\\textbf{No. Observations:} &         731      & \\textbf{  AIC:               } & 1.259e+04   \\\\\n",
       "\\textbf{Df Residuals:}     &         724      & \\textbf{  BIC:               } & 1.263e+04   \\\\\n",
       "\\textbf{Df Model:}         &           6      & \\textbf{                     } &             \\\\\n",
       "\\textbf{Covariance Type:}  &    nonrobust     & \\textbf{                     } &             \\\\\n",
       "\\bottomrule\n",
       "\\end{tabular}\n",
       "\\begin{tabular}{lcccccc}\n",
       "                        & \\textbf{coef} & \\textbf{std err} & \\textbf{t} & \\textbf{P$> |$t$|$} & \\textbf{[0.025} & \\textbf{0.975]}  \\\\\n",
       "\\midrule\n",
       "\\textbf{Intercept}      &    3734.7260  &      323.702     &    11.538  &         0.000        &     3099.220    &     4370.232     \\\\\n",
       "\\textbf{C(season)[T.2]} &     886.4621  &      182.371     &     4.861  &         0.000        &      528.424    &     1244.500     \\\\\n",
       "\\textbf{C(season)[T.3]} &     366.8133  &      240.107     &     1.528  &         0.127        &     -104.575    &      838.202     \\\\\n",
       "\\textbf{C(season)[T.4]} &    1442.8157  &      155.304     &     9.290  &         0.000        &     1137.916    &     1747.715     \\\\\n",
       "\\textbf{temp}           &    6566.3054  &      482.788     &    13.601  &         0.000        &     5618.475    &     7514.136     \\\\\n",
       "\\textbf{hum}            &   -3736.2692  &      362.764     &   -10.299  &         0.000        &    -4448.464    &    -3024.074     \\\\\n",
       "\\textbf{windspeed}      &   -4231.4951  &      669.524     &    -6.320  &         0.000        &    -5545.936    &    -2917.054     \\\\\n",
       "\\bottomrule\n",
       "\\end{tabular}\n",
       "\\begin{tabular}{lclc}\n",
       "\\textbf{Omnibus:}       &  5.702 & \\textbf{  Durbin-Watson:     } &    0.469  \\\\\n",
       "\\textbf{Prob(Omnibus):} &  0.058 & \\textbf{  Jarque-Bera (JB):  } &    4.234  \\\\\n",
       "\\textbf{Skew:}          &  0.047 & \\textbf{  Prob(JB):          } &    0.120  \\\\\n",
       "\\textbf{Kurtosis:}      &  2.639 & \\textbf{  Cond. No.          } &     20.1  \\\\\n",
       "\\bottomrule\n",
       "\\end{tabular}\n",
       "%\\caption{OLS Regression Results}\n",
       "\\end{center}\n",
       "\n",
       "Notes: \\newline\n",
       " [1] Standard Errors assume that the covariance matrix of the errors is correctly specified."
      ],
      "text/plain": [
       "<class 'statsmodels.iolib.summary.Summary'>\n",
       "\"\"\"\n",
       "                            OLS Regression Results                            \n",
       "==============================================================================\n",
       "Dep. Variable:                    cnt   R-squared:                       0.535\n",
       "Model:                            OLS   Adj. R-squared:                  0.532\n",
       "Method:                 Least Squares   F-statistic:                     139.1\n",
       "Date:                Tue, 05 Mar 2024   Prob (F-statistic):          5.68e-117\n",
       "Time:                        16:36:38   Log-Likelihood:                -6289.5\n",
       "No. Observations:                 731   AIC:                         1.259e+04\n",
       "Df Residuals:                     724   BIC:                         1.263e+04\n",
       "Df Model:                           6                                         \n",
       "Covariance Type:            nonrobust                                         \n",
       "==================================================================================\n",
       "                     coef    std err          t      P>|t|      [0.025      0.975]\n",
       "----------------------------------------------------------------------------------\n",
       "Intercept       3734.7260    323.702     11.538      0.000    3099.220    4370.232\n",
       "C(season)[T.2]   886.4621    182.371      4.861      0.000     528.424    1244.500\n",
       "C(season)[T.3]   366.8133    240.107      1.528      0.127    -104.575     838.202\n",
       "C(season)[T.4]  1442.8157    155.304      9.290      0.000    1137.916    1747.715\n",
       "temp            6566.3054    482.788     13.601      0.000    5618.475    7514.136\n",
       "hum            -3736.2692    362.764    -10.299      0.000   -4448.464   -3024.074\n",
       "windspeed      -4231.4951    669.524     -6.320      0.000   -5545.936   -2917.054\n",
       "==============================================================================\n",
       "Omnibus:                        5.702   Durbin-Watson:                   0.469\n",
       "Prob(Omnibus):                  0.058   Jarque-Bera (JB):                4.234\n",
       "Skew:                           0.047   Prob(JB):                        0.120\n",
       "Kurtosis:                       2.639   Cond. No.                         20.1\n",
       "==============================================================================\n",
       "\n",
       "Notes:\n",
       "[1] Standard Errors assume that the covariance matrix of the errors is correctly specified.\n",
       "\"\"\""
      ]
     },
     "execution_count": 39,
     "metadata": {},
     "output_type": "execute_result"
    }
   ],
   "source": [
    "#Model 3\n",
    "model3 = ols('cnt ~ C(season) + temp + hum + windspeed', data = df_reg).fit()\n",
    "model3.summary()"
   ]
  },
  {
   "cell_type": "markdown",
   "metadata": {
    "id": "NmIUrnc5gUaB"
   },
   "source": [
    "**Interpretasi:**<br>\n",
    "Pada model 3, variabel `C(season)[T.3]` paling tidak signifikan, sehingga pada pembentukan model berikutnya, variabel `season` akan dikeluarkan dari model."
   ]
  },
  {
   "cell_type": "code",
   "execution_count": 40,
   "metadata": {
    "colab": {
     "base_uri": "https://localhost:8080/",
     "height": 494
    },
    "id": "fN5uyW25gUfq",
    "outputId": "bed32578-a29e-4a01-affc-2f667ac8cc2f"
   },
   "outputs": [
    {
     "data": {
      "text/html": [
       "<table class=\"simpletable\">\n",
       "<caption>OLS Regression Results</caption>\n",
       "<tr>\n",
       "  <th>Dep. Variable:</th>           <td>cnt</td>       <th>  R-squared:         </th> <td>   0.461</td> \n",
       "</tr>\n",
       "<tr>\n",
       "  <th>Model:</th>                   <td>OLS</td>       <th>  Adj. R-squared:    </th> <td>   0.459</td> \n",
       "</tr>\n",
       "<tr>\n",
       "  <th>Method:</th>             <td>Least Squares</td>  <th>  F-statistic:       </th> <td>   207.2</td> \n",
       "</tr>\n",
       "<tr>\n",
       "  <th>Date:</th>             <td>Tue, 05 Mar 2024</td> <th>  Prob (F-statistic):</th> <td>4.26e-97</td> \n",
       "</tr>\n",
       "<tr>\n",
       "  <th>Time:</th>                 <td>16:36:38</td>     <th>  Log-Likelihood:    </th> <td> -6343.9</td> \n",
       "</tr>\n",
       "<tr>\n",
       "  <th>No. Observations:</th>      <td>   731</td>      <th>  AIC:               </th> <td>1.270e+04</td>\n",
       "</tr>\n",
       "<tr>\n",
       "  <th>Df Residuals:</th>          <td>   727</td>      <th>  BIC:               </th> <td>1.271e+04</td>\n",
       "</tr>\n",
       "<tr>\n",
       "  <th>Df Model:</th>              <td>     3</td>      <th>                     </th>     <td> </td>    \n",
       "</tr>\n",
       "<tr>\n",
       "  <th>Covariance Type:</th>      <td>nonrobust</td>    <th>                     </th>     <td> </td>    \n",
       "</tr>\n",
       "</table>\n",
       "<table class=\"simpletable\">\n",
       "<tr>\n",
       "      <td></td>         <th>coef</th>     <th>std err</th>      <th>t</th>      <th>P>|t|</th>  <th>[0.025</th>    <th>0.975]</th>  \n",
       "</tr>\n",
       "<tr>\n",
       "  <th>Intercept</th> <td> 4084.3634</td> <td>  337.862</td> <td>   12.089</td> <td> 0.000</td> <td> 3421.061</td> <td> 4747.665</td>\n",
       "</tr>\n",
       "<tr>\n",
       "  <th>temp</th>      <td> 6625.5327</td> <td>  293.085</td> <td>   22.606</td> <td> 0.000</td> <td> 6050.138</td> <td> 7200.927</td>\n",
       "</tr>\n",
       "<tr>\n",
       "  <th>hum</th>       <td>-3100.1231</td> <td>  383.992</td> <td>   -8.073</td> <td> 0.000</td> <td>-3853.988</td> <td>-2346.258</td>\n",
       "</tr>\n",
       "<tr>\n",
       "  <th>windspeed</th> <td>-4806.9293</td> <td>  708.904</td> <td>   -6.781</td> <td> 0.000</td> <td>-6198.673</td> <td>-3415.186</td>\n",
       "</tr>\n",
       "</table>\n",
       "<table class=\"simpletable\">\n",
       "<tr>\n",
       "  <th>Omnibus:</th>       <td>11.001</td> <th>  Durbin-Watson:     </th> <td>   0.404</td>\n",
       "</tr>\n",
       "<tr>\n",
       "  <th>Prob(Omnibus):</th> <td> 0.004</td> <th>  Jarque-Bera (JB):  </th> <td>   8.213</td>\n",
       "</tr>\n",
       "<tr>\n",
       "  <th>Skew:</th>          <td> 0.152</td> <th>  Prob(JB):          </th> <td>  0.0165</td>\n",
       "</tr>\n",
       "<tr>\n",
       "  <th>Kurtosis:</th>      <td> 2.579</td> <th>  Cond. No.          </th> <td>    18.7</td>\n",
       "</tr>\n",
       "</table><br/><br/>Notes:<br/>[1] Standard Errors assume that the covariance matrix of the errors is correctly specified."
      ],
      "text/latex": [
       "\\begin{center}\n",
       "\\begin{tabular}{lclc}\n",
       "\\toprule\n",
       "\\textbf{Dep. Variable:}    &       cnt        & \\textbf{  R-squared:         } &     0.461   \\\\\n",
       "\\textbf{Model:}            &       OLS        & \\textbf{  Adj. R-squared:    } &     0.459   \\\\\n",
       "\\textbf{Method:}           &  Least Squares   & \\textbf{  F-statistic:       } &     207.2   \\\\\n",
       "\\textbf{Date:}             & Tue, 05 Mar 2024 & \\textbf{  Prob (F-statistic):} &  4.26e-97   \\\\\n",
       "\\textbf{Time:}             &     16:36:38     & \\textbf{  Log-Likelihood:    } &   -6343.9   \\\\\n",
       "\\textbf{No. Observations:} &         731      & \\textbf{  AIC:               } & 1.270e+04   \\\\\n",
       "\\textbf{Df Residuals:}     &         727      & \\textbf{  BIC:               } & 1.271e+04   \\\\\n",
       "\\textbf{Df Model:}         &           3      & \\textbf{                     } &             \\\\\n",
       "\\textbf{Covariance Type:}  &    nonrobust     & \\textbf{                     } &             \\\\\n",
       "\\bottomrule\n",
       "\\end{tabular}\n",
       "\\begin{tabular}{lcccccc}\n",
       "                   & \\textbf{coef} & \\textbf{std err} & \\textbf{t} & \\textbf{P$> |$t$|$} & \\textbf{[0.025} & \\textbf{0.975]}  \\\\\n",
       "\\midrule\n",
       "\\textbf{Intercept} &    4084.3634  &      337.862     &    12.089  &         0.000        &     3421.061    &     4747.665     \\\\\n",
       "\\textbf{temp}      &    6625.5327  &      293.085     &    22.606  &         0.000        &     6050.138    &     7200.927     \\\\\n",
       "\\textbf{hum}       &   -3100.1231  &      383.992     &    -8.073  &         0.000        &    -3853.988    &    -2346.258     \\\\\n",
       "\\textbf{windspeed} &   -4806.9293  &      708.904     &    -6.781  &         0.000        &    -6198.673    &    -3415.186     \\\\\n",
       "\\bottomrule\n",
       "\\end{tabular}\n",
       "\\begin{tabular}{lclc}\n",
       "\\textbf{Omnibus:}       & 11.001 & \\textbf{  Durbin-Watson:     } &    0.404  \\\\\n",
       "\\textbf{Prob(Omnibus):} &  0.004 & \\textbf{  Jarque-Bera (JB):  } &    8.213  \\\\\n",
       "\\textbf{Skew:}          &  0.152 & \\textbf{  Prob(JB):          } &   0.0165  \\\\\n",
       "\\textbf{Kurtosis:}      &  2.579 & \\textbf{  Cond. No.          } &     18.7  \\\\\n",
       "\\bottomrule\n",
       "\\end{tabular}\n",
       "%\\caption{OLS Regression Results}\n",
       "\\end{center}\n",
       "\n",
       "Notes: \\newline\n",
       " [1] Standard Errors assume that the covariance matrix of the errors is correctly specified."
      ],
      "text/plain": [
       "<class 'statsmodels.iolib.summary.Summary'>\n",
       "\"\"\"\n",
       "                            OLS Regression Results                            \n",
       "==============================================================================\n",
       "Dep. Variable:                    cnt   R-squared:                       0.461\n",
       "Model:                            OLS   Adj. R-squared:                  0.459\n",
       "Method:                 Least Squares   F-statistic:                     207.2\n",
       "Date:                Tue, 05 Mar 2024   Prob (F-statistic):           4.26e-97\n",
       "Time:                        16:36:38   Log-Likelihood:                -6343.9\n",
       "No. Observations:                 731   AIC:                         1.270e+04\n",
       "Df Residuals:                     727   BIC:                         1.271e+04\n",
       "Df Model:                           3                                         \n",
       "Covariance Type:            nonrobust                                         \n",
       "==============================================================================\n",
       "                 coef    std err          t      P>|t|      [0.025      0.975]\n",
       "------------------------------------------------------------------------------\n",
       "Intercept   4084.3634    337.862     12.089      0.000    3421.061    4747.665\n",
       "temp        6625.5327    293.085     22.606      0.000    6050.138    7200.927\n",
       "hum        -3100.1231    383.992     -8.073      0.000   -3853.988   -2346.258\n",
       "windspeed  -4806.9293    708.904     -6.781      0.000   -6198.673   -3415.186\n",
       "==============================================================================\n",
       "Omnibus:                       11.001   Durbin-Watson:                   0.404\n",
       "Prob(Omnibus):                  0.004   Jarque-Bera (JB):                8.213\n",
       "Skew:                           0.152   Prob(JB):                       0.0165\n",
       "Kurtosis:                       2.579   Cond. No.                         18.7\n",
       "==============================================================================\n",
       "\n",
       "Notes:\n",
       "[1] Standard Errors assume that the covariance matrix of the errors is correctly specified.\n",
       "\"\"\""
      ]
     },
     "execution_count": 40,
     "metadata": {},
     "output_type": "execute_result"
    }
   ],
   "source": [
    "#Model 4\n",
    "model4 = ols('cnt ~ temp + hum + windspeed', data = df_reg).fit()\n",
    "model4.summary()"
   ]
  },
  {
   "cell_type": "markdown",
   "metadata": {
    "id": "HCzPSYmYgYbY"
   },
   "source": [
    "**Interpretasi:**<br>\n",
    "Pada model 4, seluruh variabel independen telah mempunyai koefisien yang signifikan, sehingga pembentukan model berakhir di sini."
   ]
  },
  {
   "cell_type": "markdown",
   "metadata": {
    "id": "1FZtasmIgY-9"
   },
   "source": [
    "### Pemilihan model terbaik\n",
    "\n",
    "Model dengan koefisien variabel independen yang seluruhnya signifikan belum tentu merupakan model terbaik. Model terbaik mempunyai nilai *R-squared* dan *Adjusted R-squared* yang tertinggi serta *AIC* dan *BIC* yang terendah."
   ]
  },
  {
   "cell_type": "code",
   "execution_count": 41,
   "metadata": {
    "colab": {
     "base_uri": "https://localhost:8080/",
     "height": 175
    },
    "id": "ZxLIJv-VgbCe",
    "outputId": "cd7a480a-5a17-4aa1-e7a9-f658b5023b46"
   },
   "outputs": [
    {
     "data": {
      "text/html": [
       "<div>\n",
       "<style scoped>\n",
       "    .dataframe tbody tr th:only-of-type {\n",
       "        vertical-align: middle;\n",
       "    }\n",
       "\n",
       "    .dataframe tbody tr th {\n",
       "        vertical-align: top;\n",
       "    }\n",
       "\n",
       "    .dataframe thead th {\n",
       "        text-align: right;\n",
       "    }\n",
       "</style>\n",
       "<table border=\"1\" class=\"dataframe\">\n",
       "  <thead>\n",
       "    <tr style=\"text-align: right;\">\n",
       "      <th></th>\n",
       "      <th>R-squared</th>\n",
       "      <th>Adjusted R-squared</th>\n",
       "      <th>AIC</th>\n",
       "      <th>BIC</th>\n",
       "    </tr>\n",
       "  </thead>\n",
       "  <tbody>\n",
       "    <tr>\n",
       "      <th>0</th>\n",
       "      <td>0.557723</td>\n",
       "      <td>0.552202</td>\n",
       "      <td>12563.008847</td>\n",
       "      <td>12608.952982</td>\n",
       "    </tr>\n",
       "    <tr>\n",
       "      <th>1</th>\n",
       "      <td>0.556351</td>\n",
       "      <td>0.551435</td>\n",
       "      <td>12563.273527</td>\n",
       "      <td>12604.623248</td>\n",
       "    </tr>\n",
       "    <tr>\n",
       "      <th>2</th>\n",
       "      <td>0.535423</td>\n",
       "      <td>0.531573</td>\n",
       "      <td>12592.967342</td>\n",
       "      <td>12625.128237</td>\n",
       "    </tr>\n",
       "    <tr>\n",
       "      <th>3</th>\n",
       "      <td>0.460895</td>\n",
       "      <td>0.458670</td>\n",
       "      <td>12695.727850</td>\n",
       "      <td>12714.105503</td>\n",
       "    </tr>\n",
       "  </tbody>\n",
       "</table>\n",
       "</div>"
      ],
      "text/plain": [
       "   R-squared  Adjusted R-squared           AIC           BIC\n",
       "0   0.557723            0.552202  12563.008847  12608.952982\n",
       "1   0.556351            0.551435  12563.273527  12604.623248\n",
       "2   0.535423            0.531573  12592.967342  12625.128237\n",
       "3   0.460895            0.458670  12695.727850  12714.105503"
      ]
     },
     "execution_count": 41,
     "metadata": {},
     "output_type": "execute_result"
    }
   ],
   "source": [
    "metric = pd.DataFrame(np.array([[model1.rsquared, model1.rsquared_adj, model1.aic, model1.bic],\n",
    "                                [model2.rsquared, model2.rsquared_adj, model2.aic, model2.bic],\n",
    "                                [model3.rsquared, model3.rsquared_adj, model3.aic, model3.bic],\n",
    "                                [model4.rsquared, model4.rsquared_adj, model4.aic, model4.bic]]),\n",
    "                      columns = ['R-squared', 'Adjusted R-squared', 'AIC', 'BIC'])\n",
    "metric"
   ]
  },
  {
   "cell_type": "markdown",
   "metadata": {
    "id": "QEbN6D5UjbxD"
   },
   "source": [
    "**Interpretasi:**<br>\n",
    "Model 1 mempunyai *R-squared* dan *Adjusted R-squared* tertinggi serta *AIC* terendah, sedangkan model 2 mempunyai *BIC* terendah. Dengan demikian, model terbaik untuk data yang ada adalah **model 1**."
   ]
  },
  {
   "cell_type": "markdown",
   "metadata": {
    "id": "7F5y1ixLjyM5"
   },
   "source": [
    "### Model terbaik\n",
    "\n",
    "Model terbaik untuk data yang ada ialah:<br>\n",
    "$$\\hat{cnt} = 3024.4334 + 932.3164\\text{(Summer)} + 483.1702\\text{(Autumn)} + 1499.6312\\text{(Winter)} + 155.0373\\text{(Working day)} - 232.3006\\text{(Weather 2)} - 1929.6958\\text{(Weather 3)} + 6159.1228\\text{(temp)} - 2608.2282\\text{(hum)} - 3305.9852\\text{(windspeed)}.$$<br>\n",
    "\n",
    "**Interpretasi:**\n",
    "- Jika seluruh variabel bernilai 0, estimasi perental sepeda harian berjumlah sekitar 3.024 orang.\n",
    "- Pada musim panas, estimasi perental sepeda harian sekitar 932 orang lebih dari musim semi.\n",
    "- Pada musim gugur, estimasi perental sepeda harian sekitar 483 orang lebih dari musim semi.\n",
    "- Pada musim dingin, estimasi perental sepeda harian sekitar 1.500 orang lebih dari musim semi.\n",
    "- Pada hari kerja, estimasi perental sepeda harian sekitar 155 orang lebih dari hari libur atau akhir pekan.\n",
    "- Pada cuaca mendung/gerimis, estimasi perental sepeda harian sekitar 232 kurang dari cuaca cerah/berawan.\n",
    "- Pada cuaca hujan/salju ringan, estimasi perental sepeda harian sekitar 1.930 kurang dari cuaca cerah/berawan.\n",
    "- Setiap pertambahan 0,01 satuan suhu ternormalisasi, estimasi perental sepeda harian bertambah sekitar 62 orang.\n",
    "- Setiap pertambahan 0,01 satuan tingkat kelembaban ternormalisasi, estimasi perental sepeda harian berkurang sekitar 26 orang.\n",
    "- Setiap pertambahan 0,01 satuan kecepatan angin ternormalisasi, estimasi perental sepeda harian berkurang sekitar 33 orang."
   ]
  }
 ],
 "metadata": {
  "colab": {
   "provenance": []
  },
  "kernelspec": {
   "display_name": "Python 3 (ipykernel)",
   "language": "python",
   "name": "python3"
  },
  "language_info": {
   "codemirror_mode": {
    "name": "ipython",
    "version": 3
   },
   "file_extension": ".py",
   "mimetype": "text/x-python",
   "name": "python",
   "nbconvert_exporter": "python",
   "pygments_lexer": "ipython3",
   "version": "3.11.5"
  },
  "vscode": {
   "interpreter": {
    "hash": "972b3bf27e332e87b5379f2791f6ef9dfc79c71018c370b0d7423235e20fe4d7"
   }
  }
 },
 "nbformat": 4,
 "nbformat_minor": 1
}
